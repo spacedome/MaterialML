{
 "cells": [
  {
   "cell_type": "code",
   "execution_count": 1,
   "metadata": {},
   "outputs": [],
   "source": [
    "import altair as alt\n",
    "import numpy as np\n",
    "import pandas as pd\n",
    "\n",
    "# %config InlineBackend.figure_format = 'retina'\n",
    "\n",
    "# alt.renderers.enable('notebook') ### !! uncomment this line for notebook"
   ]
  },
  {
   "cell_type": "markdown",
   "metadata": {},
   "source": [
    "### Test Plotting with Altair\n",
    "Easy to include tooltips"
   ]
  },
  {
   "cell_type": "code",
   "execution_count": 2,
   "metadata": {},
   "outputs": [
    {
     "data": {
      "application/vnd.vegalite.v2+json": {
       "$schema": "https://vega.github.io/schema/vega-lite/v2.4.3.json",
       "config": {
        "view": {
         "height": 300,
         "width": 400
        }
       },
       "data": {
        "values": [
         {
          "name": "H",
          "number": "1",
          "sin(x)": -0.32071702187331425,
          "size": 0.518204124548173,
          "type": "c",
          "x": 0
         },
         {
          "name": "H",
          "number": "1",
          "sin(x)": 0.08705164248954085,
          "size": 0.7585789161052076,
          "type": "b",
          "x": 1
         },
         {
          "name": "O",
          "number": "1",
          "sin(x)": -0.016317682565294422,
          "size": 0.5880162556514998,
          "type": "a",
          "x": 2
         },
         {
          "name": "O",
          "number": "2",
          "sin(x)": 0.364055585630776,
          "size": 0.8214786507844751,
          "type": "b",
          "x": 3
         },
         {
          "name": "H",
          "number": "3",
          "sin(x)": 0.7418532901251655,
          "size": 0.7129316357369028,
          "type": "b",
          "x": 4
         },
         {
          "name": "H",
          "number": "3",
          "sin(x)": 0.9860219773377793,
          "size": 0.6298426361311387,
          "type": "a",
          "x": 5
         },
         {
          "name": "O",
          "number": "2",
          "sin(x)": 0.9099416066826611,
          "size": 0.7345934563753532,
          "type": "c",
          "x": 6
         },
         {
          "name": "O",
          "number": "3",
          "sin(x)": 0.9403198943329416,
          "size": 0.5240180717715842,
          "type": "c",
          "x": 7
         },
         {
          "name": "C",
          "number": "2",
          "sin(x)": 0.9446173404371521,
          "size": 0.2428325086334856,
          "type": "c",
          "x": 8
         },
         {
          "name": "C",
          "number": "2",
          "sin(x)": 1.0596574644072765,
          "size": 0.4647221932913368,
          "type": "a",
          "x": 9
         },
         {
          "name": "C",
          "number": "2",
          "sin(x)": 0.8212006399258578,
          "size": 0.7440285787631845,
          "type": "a",
          "x": 10
         },
         {
          "name": "O",
          "number": "2",
          "sin(x)": 0.6627900390899059,
          "size": 0.46598782705211617,
          "type": "b",
          "x": 11
         },
         {
          "name": "C",
          "number": "1",
          "sin(x)": 0.15539240177824765,
          "size": 0.5492191880303764,
          "type": "b",
          "x": 12
         },
         {
          "name": "O",
          "number": "1",
          "sin(x)": 0.48904292208293604,
          "size": 0.1935759439522539,
          "type": "a",
          "x": 13
         },
         {
          "name": "O",
          "number": "1",
          "sin(x)": 0.6102750139661495,
          "size": 0.28279737967459895,
          "type": "a",
          "x": 14
         },
         {
          "name": "H",
          "number": "2",
          "sin(x)": 0.011729245576882624,
          "size": 0.344147477613523,
          "type": "b",
          "x": 15
         },
         {
          "name": "C",
          "number": "2",
          "sin(x)": 0.3243554034434412,
          "size": 0.20497232919316938,
          "type": "b",
          "x": 16
         },
         {
          "name": "O",
          "number": "3",
          "sin(x)": -0.22797849364387,
          "size": 0.13782845386018105,
          "type": "c",
          "x": 17
         },
         {
          "name": "H",
          "number": "1",
          "sin(x)": -0.457506396366018,
          "size": 0.12211984214662885,
          "type": "c",
          "x": 18
         },
         {
          "name": "O",
          "number": "2",
          "sin(x)": -0.6148000142183269,
          "size": 0.34055064417543096,
          "type": "a",
          "x": 19
         },
         {
          "name": "O",
          "number": "2",
          "sin(x)": -0.47882325144268884,
          "size": 0.7472681074140652,
          "type": "a",
          "x": 20
         },
         {
          "name": "O",
          "number": "3",
          "sin(x)": -1.1772058289649707,
          "size": 0.9249838353820848,
          "type": "c",
          "x": 21
         },
         {
          "name": "H",
          "number": "1",
          "sin(x)": -1.0417871657074673,
          "size": 0.9804786298351892,
          "type": "c",
          "x": 22
         },
         {
          "name": "O",
          "number": "3",
          "sin(x)": -1.074647982753758,
          "size": 0.3398760295403743,
          "type": "a",
          "x": 23
         },
         {
          "name": "C",
          "number": "1",
          "sin(x)": -1.209307211109216,
          "size": 0.8175001581589253,
          "type": "c",
          "x": 24
         },
         {
          "name": "O",
          "number": "2",
          "sin(x)": -1.0930560499918733,
          "size": 0.24272405633262414,
          "type": "b",
          "x": 25
         },
         {
          "name": "O",
          "number": "3",
          "sin(x)": -1.1869745736093846,
          "size": 0.251445967865219,
          "type": "a",
          "x": 26
         },
         {
          "name": "C",
          "number": "3",
          "sin(x)": -0.8049477289136717,
          "size": 0.13413978344050542,
          "type": "c",
          "x": 27
         },
         {
          "name": "H",
          "number": "1",
          "sin(x)": -0.39437896196084277,
          "size": 0.7427423962831523,
          "type": "a",
          "x": 28
         },
         {
          "name": "C",
          "number": "1",
          "sin(x)": -0.3122962661162719,
          "size": 0.616690155038576,
          "type": "b",
          "x": 29
         },
         {
          "name": "C",
          "number": "3",
          "sin(x)": -0.08693433850622587,
          "size": 0.5641468986657323,
          "type": "a",
          "x": 30
         },
         {
          "name": "C",
          "number": "1",
          "sin(x)": 0.058618378855034375,
          "size": 0.7711151934042703,
          "type": "b",
          "x": 31
         },
         {
          "name": "O",
          "number": "2",
          "sin(x)": -0.36730263180133926,
          "size": 0.670112812533751,
          "type": "a",
          "x": 32
         },
         {
          "name": "O",
          "number": "1",
          "sin(x)": 0.31516719325409537,
          "size": 0.48392943864511173,
          "type": "a",
          "x": 33
         },
         {
          "name": "C",
          "number": "2",
          "sin(x)": 0.4089254861858293,
          "size": 0.8099141513768567,
          "type": "b",
          "x": 34
         },
         {
          "name": "O",
          "number": "3",
          "sin(x)": 0.8751677267403066,
          "size": 0.3030195991199113,
          "type": "c",
          "x": 35
         },
         {
          "name": "C",
          "number": "2",
          "sin(x)": 0.7820227883248418,
          "size": 0.31704365907720816,
          "type": "c",
          "x": 36
         },
         {
          "name": "O",
          "number": "3",
          "sin(x)": 0.43459928174046975,
          "size": 0.9886169105043378,
          "type": "b",
          "x": 37
         },
         {
          "name": "O",
          "number": "1",
          "sin(x)": 0.6786493557274906,
          "size": 0.16638989609937338,
          "type": "a",
          "x": 38
         },
         {
          "name": "C",
          "number": "3",
          "sin(x)": 0.67328813611222,
          "size": 0.8607741105944637,
          "type": "b",
          "x": 39
         },
         {
          "name": "C",
          "number": "2",
          "sin(x)": 1.0103396279647605,
          "size": 0.38845212327163425,
          "type": "c",
          "x": 40
         },
         {
          "name": "O",
          "number": "1",
          "sin(x)": 1.1411859724406872,
          "size": 0.5770128407406458,
          "type": "a",
          "x": 41
         },
         {
          "name": "C",
          "number": "1",
          "sin(x)": 1.017333061815823,
          "size": 0.9498243908190565,
          "type": "c",
          "x": 42
         },
         {
          "name": "C",
          "number": "2",
          "sin(x)": 0.575269601242006,
          "size": 0.7401991012747887,
          "type": "a",
          "x": 43
         },
         {
          "name": "H",
          "number": "3",
          "sin(x)": 0.5581886219707459,
          "size": 0.5983609493716834,
          "type": "b",
          "x": 44
         },
         {
          "name": "C",
          "number": "2",
          "sin(x)": 0.21716229024167336,
          "size": 0.444654432311973,
          "type": "a",
          "x": 45
         },
         {
          "name": "C",
          "number": "2",
          "sin(x)": 0.46584453865592557,
          "size": 0.5607231905599303,
          "type": "a",
          "x": 46
         },
         {
          "name": "C",
          "number": "3",
          "sin(x)": -0.20117561615492813,
          "size": 0.9139600304637315,
          "type": "b",
          "x": 47
         },
         {
          "name": "H",
          "number": "2",
          "sin(x)": -0.16889903762831124,
          "size": 0.5992696621111435,
          "type": "b",
          "x": 48
         },
         {
          "name": "C",
          "number": "2",
          "sin(x)": -0.12154986160193576,
          "size": 0.30679919862207167,
          "type": "c",
          "x": 49
         },
         {
          "name": "C",
          "number": "3",
          "sin(x)": -0.5208223898055115,
          "size": 0.7689195568407554,
          "type": "c",
          "x": 50
         },
         {
          "name": "C",
          "number": "1",
          "sin(x)": -1.191203795629049,
          "size": 0.7072928765922532,
          "type": "c",
          "x": 51
         },
         {
          "name": "H",
          "number": "3",
          "sin(x)": -0.9805088499063553,
          "size": 0.24704406325671996,
          "type": "a",
          "x": 52
         },
         {
          "name": "C",
          "number": "2",
          "sin(x)": -1.102961509615836,
          "size": 0.12793093146542553,
          "type": "b",
          "x": 53
         },
         {
          "name": "O",
          "number": "1",
          "sin(x)": -0.9525291874282554,
          "size": 0.38101917349768866,
          "type": "b",
          "x": 54
         },
         {
          "name": "H",
          "number": "1",
          "sin(x)": -1.4035740477677034,
          "size": 0.2882329022369256,
          "type": "a",
          "x": 55
         },
         {
          "name": "C",
          "number": "1",
          "sin(x)": -0.9626959693866487,
          "size": 0.8551745551477328,
          "type": "a",
          "x": 56
         },
         {
          "name": "O",
          "number": "3",
          "sin(x)": -0.9746485837613121,
          "size": 0.7771359603045666,
          "type": "b",
          "x": 57
         },
         {
          "name": "C",
          "number": "1",
          "sin(x)": -0.4565208799270656,
          "size": 0.8165077354711544,
          "type": "b",
          "x": 58
         },
         {
          "name": "O",
          "number": "1",
          "sin(x)": -0.4665204290718932,
          "size": 0.384730190074726,
          "type": "a",
          "x": 59
         },
         {
          "name": "O",
          "number": "3",
          "sin(x)": -0.8719386950247092,
          "size": 0.4926813776439838,
          "type": "a",
          "x": 60
         },
         {
          "name": "O",
          "number": "2",
          "sin(x)": 0.025580174248626852,
          "size": 0.6974257673787603,
          "type": "c",
          "x": 61
         },
         {
          "name": "O",
          "number": "1",
          "sin(x)": 0.01634623383646938,
          "size": 0.18427826909538145,
          "type": "c",
          "x": 62
         },
         {
          "name": "O",
          "number": "2",
          "sin(x)": -0.020258585987433804,
          "size": 0.21491854428759286,
          "type": "b",
          "x": 63
         },
         {
          "name": "O",
          "number": "3",
          "sin(x)": 0.6752877052581712,
          "size": 0.5555977499671627,
          "type": "c",
          "x": 64
         },
         {
          "name": "H",
          "number": "2",
          "sin(x)": 0.489102869099701,
          "size": 0.9858378816163123,
          "type": "a",
          "x": 65
         },
         {
          "name": "H",
          "number": "2",
          "sin(x)": 0.5150836970503903,
          "size": 0.8339449669317656,
          "type": "b",
          "x": 66
         },
         {
          "name": "C",
          "number": "1",
          "sin(x)": 1.0943321250781317,
          "size": 0.6178744339141945,
          "type": "c",
          "x": 67
         },
         {
          "name": "O",
          "number": "3",
          "sin(x)": 0.6935496933795906,
          "size": 0.5706409389542805,
          "type": "a",
          "x": 68
         },
         {
          "name": "H",
          "number": "3",
          "sin(x)": 1.0536525270309323,
          "size": 0.6330258530601235,
          "type": "b",
          "x": 69
         },
         {
          "name": "H",
          "number": "3",
          "sin(x)": 1.2436292024767028,
          "size": 0.7785324984224333,
          "type": "c",
          "x": 70
         },
         {
          "name": "O",
          "number": "2",
          "sin(x)": 0.7804761245015134,
          "size": 0.7891567136563851,
          "type": "a",
          "x": 71
         },
         {
          "name": "C",
          "number": "1",
          "sin(x)": 0.7108457694836823,
          "size": 0.5958975815143993,
          "type": "a",
          "x": 72
         },
         {
          "name": "H",
          "number": "1",
          "sin(x)": 0.7676415717981396,
          "size": 0.3597178613380595,
          "type": "b",
          "x": 73
         },
         {
          "name": "C",
          "number": "1",
          "sin(x)": 0.7432709244029855,
          "size": 0.4146343511405639,
          "type": "a",
          "x": 74
         },
         {
          "name": "H",
          "number": "3",
          "sin(x)": 0.6536339267047909,
          "size": 0.5094458559565596,
          "type": "c",
          "x": 75
         },
         {
          "name": "C",
          "number": "2",
          "sin(x)": 0.33565774115564684,
          "size": 0.8082371148387102,
          "type": "b",
          "x": 76
         },
         {
          "name": "O",
          "number": "3",
          "sin(x)": 0.6452442720234886,
          "size": 0.550158794235879,
          "type": "a",
          "x": 77
         },
         {
          "name": "O",
          "number": "1",
          "sin(x)": 0.585860033729654,
          "size": 0.5329562357495775,
          "type": "a",
          "x": 78
         },
         {
          "name": "O",
          "number": "2",
          "sin(x)": -0.23735983160267632,
          "size": 0.7582027894564081,
          "type": "a",
          "x": 79
         },
         {
          "name": "C",
          "number": "2",
          "sin(x)": 0.2415197681736596,
          "size": 0.9799054994544372,
          "type": "b",
          "x": 80
         },
         {
          "name": "O",
          "number": "2",
          "sin(x)": -0.46015895847479354,
          "size": 0.4779915100385903,
          "type": "b",
          "x": 81
         },
         {
          "name": "O",
          "number": "1",
          "sin(x)": -0.49866336668763633,
          "size": 0.9931013533998149,
          "type": "a",
          "x": 82
         },
         {
          "name": "C",
          "number": "3",
          "sin(x)": -0.8200632147670385,
          "size": 0.8328071145824109,
          "type": "a",
          "x": 83
         },
         {
          "name": "H",
          "number": "2",
          "sin(x)": -1.1102579737995923,
          "size": 0.9995132118265665,
          "type": "c",
          "x": 84
         },
         {
          "name": "H",
          "number": "3",
          "sin(x)": -0.9391982420971379,
          "size": 0.7306498922748466,
          "type": "c",
          "x": 85
         },
         {
          "name": "O",
          "number": "2",
          "sin(x)": -1.107646946621977,
          "size": 0.23216742221871514,
          "type": "a",
          "x": 86
         },
         {
          "name": "C",
          "number": "1",
          "sin(x)": -1.1081708320103205,
          "size": 0.4596353273032523,
          "type": "b",
          "x": 87
         },
         {
          "name": "H",
          "number": "3",
          "sin(x)": -1.3325798278614425,
          "size": 0.54956963108363,
          "type": "b",
          "x": 88
         },
         {
          "name": "O",
          "number": "1",
          "sin(x)": -0.9395168842944964,
          "size": 0.5370504648011539,
          "type": "a",
          "x": 89
         },
         {
          "name": "O",
          "number": "1",
          "sin(x)": -0.7590276018496528,
          "size": 0.6174943852406417,
          "type": "c",
          "x": 90
         },
         {
          "name": "H",
          "number": "1",
          "sin(x)": -0.5306499146324993,
          "size": 0.41783544383055626,
          "type": "c",
          "x": 91
         },
         {
          "name": "H",
          "number": "1",
          "sin(x)": -0.6168563062785988,
          "size": 0.5337933372103396,
          "type": "b",
          "x": 92
         },
         {
          "name": "O",
          "number": "1",
          "sin(x)": -0.4493240432863529,
          "size": 0.23048349404848373,
          "type": "b",
          "x": 93
         },
         {
          "name": "C",
          "number": "3",
          "sin(x)": 0.18647388429517112,
          "size": 0.7445350980713121,
          "type": "c",
          "x": 94
         },
         {
          "name": "H",
          "number": "3",
          "sin(x)": -0.1766139570260087,
          "size": 0.48214455442853577,
          "type": "c",
          "x": 95
         },
         {
          "name": "C",
          "number": "2",
          "sin(x)": 0.6998127888357564,
          "size": 0.42607314379293393,
          "type": "c",
          "x": 96
         },
         {
          "name": "C",
          "number": "3",
          "sin(x)": 0.3965293474468579,
          "size": 0.8876742600083505,
          "type": "b",
          "x": 97
         },
         {
          "name": "C",
          "number": "2",
          "sin(x)": 0.9803127450865239,
          "size": 0.7704193719461521,
          "type": "b",
          "x": 98
         },
         {
          "name": "C",
          "number": "2",
          "sin(x)": 0.5735384725702041,
          "size": 0.530657327507678,
          "type": "b",
          "x": 99
         }
        ]
       },
       "encoding": {
        "color": {
         "field": "name",
         "type": "nominal"
        },
        "size": {
         "field": "size",
         "type": "quantitative"
        },
        "tooltip": [
         {
          "field": "number",
          "type": "nominal"
         },
         {
          "field": "name",
          "type": "nominal"
         },
         {
          "field": "type",
          "type": "nominal"
         }
        ],
        "x": {
         "field": "x",
         "type": "quantitative"
        },
        "y": {
         "field": "sin(x)",
         "type": "quantitative"
        }
       },
       "height": 300,
       "mark": {
        "size": 60,
        "type": "circle"
       },
       "width": 800
      },
      "image/png": "[encoded data removed]",
      "text/plain": [
       "<VegaLite 2 object>\n",
       "\n",
       "If you see this message, it means the renderer has not been properly enabled\n",
       "for the frontend that you are using. For more information, see\n",
       "https://altair-viz.github.io/user_guide/troubleshooting.html\n"
      ]
     },
     "execution_count": 2,
     "metadata": {},
     "output_type": "execute_result"
    }
   ],
   "source": [
    "x = np.arange(100)\n",
    "data = pd.DataFrame({\n",
    "    'x': x,\n",
    "    'sin(x)': np.sin(x / 5) + np.random.normal(0.0, 0.25, x.shape),\n",
    "    'number': np.random.choice(['1', '2', '3'], x.shape),\n",
    "    'name': np.random.choice(['C', 'O', 'H'], x.shape),\n",
    "    'type': np.random.choice(['a', 'b', 'c'], x.shape),\n",
    "    'size': np.random.uniform(0.1, 1.0, x.shape)\n",
    "})\n",
    "\n",
    "alt.Chart(data, width=800, height=300).mark_circle(size=60).encode(\n",
    "    x='x',\n",
    "    y='sin(x)',\n",
    "    color='name',\n",
    "    size='size',\n",
    "    tooltip=['number', 'name', 'type']\n",
    ")"
   ]
  },
  {
   "cell_type": "code",
   "execution_count": 10,
   "metadata": {},
   "outputs": [],
   "source": [
    "sample = np.random.rand(250)\n",
    "test   = np.random.rand(100)\n",
    "\n",
    "sample_df = pd.DataFrame({\n",
    "    'x': sample,\n",
    "    'y': 1 - sample**2 + np.random.normal(0.0, 0.1, sample.shape),\n",
    "    'mean': 1 - sample**2\n",
    "})"
   ]
  },
  {
   "cell_type": "code",
   "execution_count": 4,
   "metadata": {},
   "outputs": [
    {
     "data": {
      "application/vnd.vegalite.v2+json": {
       "$schema": "https://vega.github.io/schema/vega-lite/v2.4.3.json",
       "config": {
        "view": {
         "height": 300,
         "width": 400
        }
       },
       "layer": [
        {
         "data": {
          "values": [
           {
            "mean": 0.6690572751701303,
            "x": 0.5752762161169795,
            "y": 0.5651416166297898
           },
           {
            "mean": 0.9019355951232413,
            "x": 0.31315236687075954,
            "y": 0.8778807331608367
           },
           {
            "mean": 0.9880522219144652,
            "x": 0.10930589227271692,
            "y": 0.9480938917434333
           },
           {
            "mean": 0.222204729649627,
            "x": 0.8819270209889098,
            "y": 0.35816892614098617
           },
           {
            "mean": 0.7107607422931151,
            "x": 0.5378096853970602,
            "y": 0.7605697781151755
           },
           {
            "mean": 0.9787737950786861,
            "x": 0.14569215806389146,
            "y": 0.9312444061040414
           },
           {
            "mean": 0.7747883420270191,
            "x": 0.47456470367377823,
            "y": 0.785168116794383
           },
           {
            "mean": 0.275546388052042,
            "x": 0.8511484077104051,
            "y": 0.2144374911932714
           },
           {
            "mean": 0.6319921369773795,
            "x": 0.6066365163939774,
            "y": 0.42251052009342627
           },
           {
            "mean": 0.9465873404334679,
            "x": 0.23111179019368988,
            "y": 1.000372377378147
           },
           {
            "mean": 0.892605115551654,
            "x": 0.32771158729643046,
            "y": 0.9341531993771518
           },
           {
            "mean": 0.194727848493228,
            "x": 0.8973695735352141,
            "y": 0.3972140130556081
           },
           {
            "mean": 0.35856454325474285,
            "x": 0.8008966579685903,
            "y": 0.5553124825685476
           },
           {
            "mean": 0.9997319914937479,
            "x": 0.01637096534270721,
            "y": 0.9526481950259206
           },
           {
            "mean": 0.10966052542560423,
            "x": 0.9435780172165923,
            "y": 0.21599328383332952
           },
           {
            "mean": 0.8182287271844502,
            "x": 0.4263464234815977,
            "y": 0.6336234989024633
           },
           {
            "mean": 0.7231167545396562,
            "x": 0.5261969645107656,
            "y": 0.544077107569613
           },
           {
            "mean": 0.6154582101699666,
            "x": 0.6201143360945894,
            "y": 0.8013286438436066
           },
           {
            "mean": 0.391992184521033,
            "x": 0.7797485591387566,
            "y": 0.4487789009000404
           },
           {
            "mean": 0.9749965171094865,
            "x": 0.15812489649170847,
            "y": 0.8242732226966496
           },
           {
            "mean": 0.989451854260997,
            "x": 0.10270416612291322,
            "y": 1.162502671447461
           },
           {
            "mean": 0.8715021911530003,
            "x": 0.35846591029971,
            "y": 0.7892120901476528
           },
           {
            "mean": 0.840447007411918,
            "x": 0.39944084992409323,
            "y": 0.8605190473401532
           },
           {
            "mean": 0.9960427869423852,
            "x": 0.06290638328194342,
            "y": 0.9277413872566563
           },
           {
            "mean": 0.9038210046468376,
            "x": 0.310127385687176,
            "y": 0.9181769604382956
           },
           {
            "mean": 0.8927947640805067,
            "x": 0.3274221066444556,
            "y": 0.8355495404103563
           },
           {
            "mean": 0.12213774858773363,
            "x": 0.9369430353080525,
            "y": 0.16802850141934236
           },
           {
            "mean": 0.6401590393152923,
            "x": 0.599867452596578,
            "y": 0.5416098102486318
           },
           {
            "mean": 0.6038561273578104,
            "x": 0.6293996128392435,
            "y": 0.4425738705437041
           },
           {
            "mean": 0.9526683428860021,
            "x": 0.2175583993184309,
            "y": 0.8393922998301893
           },
           {
            "mean": 0.7016656405979254,
            "x": 0.546199926219397,
            "y": 0.8227369330165751
           },
           {
            "mean": 0.16933651522884074,
            "x": 0.9114074197476995,
            "y": -0.026064764513791056
           },
           {
            "mean": 0.9929126579279497,
            "x": 0.0841863532411894,
            "y": 0.8212913891042625
           },
           {
            "mean": 0.9997802944555951,
            "x": 0.014822467554521324,
            "y": 1.0381118375907041
           },
           {
            "mean": 0.48927458922908096,
            "x": 0.7146505515081613,
            "y": 0.43005042896350976
           },
           {
            "mean": 0.9999997537941813,
            "x": 0.0004961913126649842,
            "y": 0.970141726658922
           },
           {
            "mean": 0.8132577709397231,
            "x": 0.43213681752458555,
            "y": 0.6217713577855193
           },
           {
            "mean": 0.9670390023441828,
            "x": 0.18155163908876482,
            "y": 1.0565365030382348
           },
           {
            "mean": 0.9075713290709944,
            "x": 0.30402083962946636,
            "y": 0.8746508311528132
           },
           {
            "mean": 0.9513497119212256,
            "x": 0.2205681030402501,
            "y": 0.918126448010103
           },
           {
            "mean": 0.6777077862145893,
            "x": 0.5677078595416931,
            "y": 0.6623690297216142
           },
           {
            "mean": 0.6825648683216048,
            "x": 0.563413819211417,
            "y": 0.6003510981905056
           },
           {
            "mean": 0.69588111727465,
            "x": 0.5514697477879907,
            "y": 0.874698225416767
           },
           {
            "mean": 0.3330551838775133,
            "x": 0.81666689422462,
            "y": 0.4760021301324404
           },
           {
            "mean": 0.35145190675626525,
            "x": 0.8053248370960222,
            "y": 0.24015162689586333
           },
           {
            "mean": 0.4943639161955824,
            "x": 0.7110809263399052,
            "y": 0.4722619792210807
           },
           {
            "mean": 0.986577816646876,
            "x": 0.11585414689653506,
            "y": 1.0783249888797772
           },
           {
            "mean": 0.9883660474190668,
            "x": 0.10786080187414337,
            "y": 1.2469718241405443
           },
           {
            "mean": 0.8774851140374961,
            "x": 0.35002126501471864,
            "y": 0.7484541535426844
           },
           {
            "mean": 0.660712210846482,
            "x": 0.5824841535642992,
            "y": 0.6276372000450373
           },
           {
            "mean": 0.995048351261134,
            "x": 0.07036795249874794,
            "y": 1.0892975798277127
           },
           {
            "mean": 0.7392064025035818,
            "x": 0.5106795448188798,
            "y": 0.8068579583785127
           },
           {
            "mean": 0.9864688352069217,
            "x": 0.11632353499218595,
            "y": 0.9279829756160543
           },
           {
            "mean": 0.06749196792094447,
            "x": 0.9656645546353327,
            "y": 0.1442520868149601
           },
           {
            "mean": 0.650488899946702,
            "x": 0.591194638045118,
            "y": 0.6637257676285365
           },
           {
            "mean": 0.6369497729880071,
            "x": 0.6025364943403784,
            "y": 0.4703548440077687
           },
           {
            "mean": 0.0981130554120292,
            "x": 0.949677284443495,
            "y": 0.30883521151404414
           },
           {
            "mean": 0.9251795431807355,
            "x": 0.2735332828364119,
            "y": 0.8826079788692491
           },
           {
            "mean": 0.775666004130281,
            "x": 0.4736390987552854,
            "y": 0.9668692675984157
           },
           {
            "mean": 0.9609979671261246,
            "x": 0.1974893234427506,
            "y": 0.9098064752562263
           },
           {
            "mean": 0.32833889218759893,
            "x": 0.8195493321407815,
            "y": 0.3303970580116556
           },
           {
            "mean": 0.9996717268933945,
            "x": 0.018118308602227517,
            "y": 0.9860238802777367
           },
           {
            "mean": 0.13788612274327472,
            "x": 0.9285008762821526,
            "y": 0.12693557880113637
           },
           {
            "mean": 0.959855097001172,
            "x": 0.20036193001373293,
            "y": 0.9253689400820831
           },
           {
            "mean": 0.7199463160491717,
            "x": 0.52920098634718,
            "y": 0.6615696324522111
           },
           {
            "mean": 0.9952149807920446,
            "x": 0.0691738332605285,
            "y": 1.1155064438249969
           },
           {
            "mean": 0.7693984434410763,
            "x": 0.4802099088512478,
            "y": 0.7579406418519831
           },
           {
            "mean": 0.14048635160646528,
            "x": 0.9270995892532445,
            "y": -0.018414487529809148
           },
           {
            "mean": 0.91331202602201,
            "x": 0.29442821532249597,
            "y": 0.9083507627253307
           },
           {
            "mean": 0.11332792095370026,
            "x": 0.941632666726415,
            "y": 0.11027470540980203
           },
           {
            "mean": 0.9615363141758024,
            "x": 0.19612160978382165,
            "y": 0.8195431163897269
           },
           {
            "mean": 0.7201074713250317,
            "x": 0.5290487016097557,
            "y": 0.7214945186419298
           },
           {
            "mean": 0.8490568650285987,
            "x": 0.38851400871963593,
            "y": 0.7824978192543859
           },
           {
            "mean": 0.6515020770182537,
            "x": 0.590337126548675,
            "y": 0.7057879905662413
           },
           {
            "mean": 0.488019488107037,
            "x": 0.715528134941571,
            "y": 0.522966637741326
           },
           {
            "mean": 0.7044653963469891,
            "x": 0.5436309443482875,
            "y": 0.7094848577116146
           },
           {
            "mean": 0.8026006385493807,
            "x": 0.44429647922374904,
            "y": 0.8678825980780135
           },
           {
            "mean": 0.45640854580119716,
            "x": 0.7372865482285723,
            "y": 0.5578038691674627
           },
           {
            "mean": 0.9383581109833078,
            "x": 0.24827784640739126,
            "y": 0.7744830227448123
           },
           {
            "mean": 0.9997231197262302,
            "x": 0.01663971976235734,
            "y": 1.1320432617882323
           },
           {
            "mean": 0.5526846897665945,
            "x": 0.6688163501540655,
            "y": 0.47268804869179937
           },
           {
            "mean": 0.814301319421636,
            "x": 0.4309276976226569,
            "y": 0.8253703371262753
           },
           {
            "mean": 0.4554948520741645,
            "x": 0.7379059207824772,
            "y": 0.551119795146728
           },
           {
            "mean": 0.3773077122758488,
            "x": 0.7891085398879872,
            "y": 0.39908643772125546
           },
           {
            "mean": 0.8419709703478874,
            "x": 0.39752865261778636,
            "y": 0.6869789870660532
           },
           {
            "mean": 0.9272620494905579,
            "x": 0.2696997413966913,
            "y": 0.8733825463240585
           },
           {
            "mean": 0.42493496822994725,
            "x": 0.7583304238721091,
            "y": 0.3173162338327619
           },
           {
            "mean": 0.9937066895939132,
            "x": 0.07933038765874523,
            "y": 1.1231630964452828
           },
           {
            "mean": 0.6592090842325127,
            "x": 0.5837730002042637,
            "y": 0.5158482868255151
           },
           {
            "mean": 0.38854189281265683,
            "x": 0.7819578679106332,
            "y": 0.3447553917177184
           },
           {
            "mean": 0.7888808171460482,
            "x": 0.4594770754389732,
            "y": 0.8061637673043153
           },
           {
            "mean": 0.9836086254168863,
            "x": 0.1280288037244499,
            "y": 1.0382832667820447
           },
           {
            "mean": 0.8550020920816126,
            "x": 0.3807859082455486,
            "y": 0.9855635789486856
           },
           {
            "mean": 0.9277618498080746,
            "x": 0.2687715576319887,
            "y": 0.9674674432267181
           },
           {
            "mean": 0.932089445356609,
            "x": 0.2605965361308378,
            "y": 1.0320738647275554
           },
           {
            "mean": 0.4640928646848913,
            "x": 0.7320567842149328,
            "y": 0.5711119617766168
           },
           {
            "mean": 0.788921641650967,
            "x": 0.45943264832729613,
            "y": 0.7692796209609141
           },
           {
            "mean": 0.9895963848484419,
            "x": 0.10199811347058363,
            "y": 0.9526742719610373
           },
           {
            "mean": 0.2916119553571088,
            "x": 0.8416579142638007,
            "y": 0.22660676641906002
           },
           {
            "mean": 0.48116822594791786,
            "x": 0.7202997806830723,
            "y": 0.4986436615498033
           },
           {
            "mean": 0.4016643614007843,
            "x": 0.7735215825038211,
            "y": 0.44729574677702144
           },
           {
            "mean": 0.9370287397068487,
            "x": 0.25094075056305865,
            "y": 1.0211011860586823
           },
           {
            "mean": 0.2569850424308481,
            "x": 0.8619831538778191,
            "y": 0.38832129302877505
           },
           {
            "mean": 0.7633664367444307,
            "x": 0.4864499596624192,
            "y": 0.779106987799461
           },
           {
            "mean": 0.8824648867271038,
            "x": 0.3428339441667003,
            "y": 0.9070288646868852
           },
           {
            "mean": 0.9946545254847478,
            "x": 0.07311275207002044,
            "y": 1.0842773980222815
           },
           {
            "mean": 0.8804344365170156,
            "x": 0.34578253785144264,
            "y": 0.8765875539164566
           },
           {
            "mean": 0.9996912196170598,
            "x": 0.017572147931890325,
            "y": 0.9325738361434563
           },
           {
            "mean": 0.5336365385060442,
            "x": 0.6829080915423069,
            "y": 0.4823667317403646
           },
           {
            "mean": 0.9310520261179092,
            "x": 0.2625794620340496,
            "y": 0.9167062457952002
           },
           {
            "mean": 0.8483178008589642,
            "x": 0.38946398953052863,
            "y": 0.8620954835188918
           },
           {
            "mean": 0.9745882963674379,
            "x": 0.1594104878374133,
            "y": 0.9745785772447529
           },
           {
            "mean": 0.8856982786179586,
            "x": 0.33808537587722043,
            "y": 0.7567568085620332
           },
           {
            "mean": 0.2487163635430114,
            "x": 0.8667661948051438,
            "y": 0.19959010688956172
           },
           {
            "mean": 0.9360474984720873,
            "x": 0.2528883182907282,
            "y": 0.9127629459725466
           },
           {
            "mean": 0.9064595628984159,
            "x": 0.30584381161237195,
            "y": 0.8715162266449943
           },
           {
            "mean": 0.22533293390897502,
            "x": 0.880151729016665,
            "y": 0.23448823338765437
           },
           {
            "mean": 0.8445761210100211,
            "x": 0.3942383530175355,
            "y": 1.055558078540508
           },
           {
            "mean": 0.9993522081827995,
            "x": 0.025451754697869755,
            "y": 1.2071326970931968
           },
           {
            "mean": 0.9711259061470006,
            "x": 0.16992378836701905,
            "y": 0.8925507799290543
           },
           {
            "mean": 0.6704882465296361,
            "x": 0.5740311432930829,
            "y": 0.47452497381991104
           },
           {
            "mean": 0.42488026802054346,
            "x": 0.7583664892250029,
            "y": 0.43255813680055055
           },
           {
            "mean": 0.916274853379048,
            "x": 0.28935297928473447,
            "y": 0.8364848406726547
           },
           {
            "mean": 0.8486386128963868,
            "x": 0.38905190798094447,
            "y": 0.8081357233183043
           },
           {
            "mean": 0.38477920145816313,
            "x": 0.7843601204433056,
            "y": 0.310651334540401
           },
           {
            "mean": 0.7897057752558236,
            "x": 0.4585784826441123,
            "y": 0.7391346009523632
           },
           {
            "mean": 0.8932897405205797,
            "x": 0.3266653631461717,
            "y": 0.8849294970131796
           },
           {
            "mean": 0.9358025785388923,
            "x": 0.25337210079467654,
            "y": 1.1499427854879891
           },
           {
            "mean": 0.909728282115275,
            "x": 0.300452521847837,
            "y": 0.8020675698610036
           },
           {
            "mean": 0.9988812171248156,
            "x": 0.03344821183836899,
            "y": 0.965360149600277
           },
           {
            "mean": 0.9742829887664981,
            "x": 0.16036524322153456,
            "y": 0.9296676133732251
           },
           {
            "mean": 0.9957715239574861,
            "x": 0.0650267332911153,
            "y": 0.9720914481261254
           },
           {
            "mean": 0.36669558814066394,
            "x": 0.7958042547381461,
            "y": 0.46523633744326
           },
           {
            "mean": 0.18159267012906177,
            "x": 0.9046586814213072,
            "y": 0.03499307615330413
           },
           {
            "mean": 0.9568119391609827,
            "x": 0.20781737376604792,
            "y": 0.9682871641145715
           },
           {
            "mean": 0.3214858470673656,
            "x": 0.8237197053201012,
            "y": 0.3879147470647034
           },
           {
            "mean": 0.9587383770321214,
            "x": 0.20312957186948088,
            "y": 0.9499893093485253
           },
           {
            "mean": 0.5027058232971224,
            "x": 0.7051908796225868,
            "y": 0.4891067241035676
           },
           {
            "mean": 0.9839126006584875,
            "x": 0.12683611213496115,
            "y": 0.8716227625916255
           },
           {
            "mean": 0.780857835544815,
            "x": 0.46812622705332907,
            "y": 0.7059208006757652
           },
           {
            "mean": 0.20458135032109104,
            "x": 0.8918624611894532,
            "y": 0.35982920560647735
           },
           {
            "mean": 0.20150282928113816,
            "x": 0.8935866889781102,
            "y": 0.08512882933358129
           },
           {
            "mean": 0.9300641048802409,
            "x": 0.26445395652128,
            "y": 0.8661244094969149
           },
           {
            "mean": 0.24515031322805858,
            "x": 0.8688208600004614,
            "y": 0.07343055075461474
           },
           {
            "mean": 0.4307245980870825,
            "x": 0.754503414116144,
            "y": 0.5307022645347955
           },
           {
            "mean": 0.9853541381668339,
            "x": 0.12102008855213298,
            "y": 0.846142484438049
           },
           {
            "mean": 0.9473951758137926,
            "x": 0.22935741580818214,
            "y": 0.7936188704289959
           },
           {
            "mean": 0.31823470205040183,
            "x": 0.8256908004511121,
            "y": 0.3680821962625264
           },
           {
            "mean": 0.958485299663077,
            "x": 0.20375156523797044,
            "y": 0.8063053886610414
           },
           {
            "mean": 0.4915199591921998,
            "x": 0.7130778644775059,
            "y": 0.5915551721695808
           },
           {
            "mean": 0.38473108703097014,
            "x": 0.7843907909766852,
            "y": 0.49635644945626534
           },
           {
            "mean": 0.9798504427704945,
            "x": 0.14194913606466752,
            "y": 0.8029478366350625
           },
           {
            "mean": 0.3684944881705494,
            "x": 0.7946732107158581,
            "y": 0.21328059777260833
           },
           {
            "mean": 0.2706024686629286,
            "x": 0.8540477336408495,
            "y": 0.3193552052668188
           },
           {
            "mean": 0.2356013358806247,
            "x": 0.8742989558036629,
            "y": 0.21971052619053436
           },
           {
            "mean": 0.9954037427671008,
            "x": 0.06779570217129716,
            "y": 0.9687725888701719
           },
           {
            "mean": 0.18474970822802506,
            "x": 0.9029121174134142,
            "y": 0.17543861437803285
           },
           {
            "mean": 0.4393306318145358,
            "x": 0.7487785842193032,
            "y": 0.4688599302052894
           },
           {
            "mean": 0.26168896712773404,
            "x": 0.8592502737109055,
            "y": 0.2548683639133248
           },
           {
            "mean": 0.9430904541051824,
            "x": 0.2385572172348125,
            "y": 0.9464670784135919
           },
           {
            "mean": 0.9881721682711546,
            "x": 0.10875583537836186,
            "y": 1.0945875024424898
           },
           {
            "mean": 0.9996760622564452,
            "x": 0.017998270571218833,
            "y": 0.9975316487412976
           },
           {
            "mean": 0.914753360922579,
            "x": 0.2919702708794528,
            "y": 0.9459895310327499
           },
           {
            "mean": 0.752524947256767,
            "x": 0.4974686449850212,
            "y": 0.7459561682933222
           },
           {
            "mean": 0.20639827885198458,
            "x": 0.8908432640751208,
            "y": 0.13200903770012803
           },
           {
            "mean": 0.4890670696858542,
            "x": 0.7147957262841922,
            "y": 0.5228369292671113
           },
           {
            "mean": 0.42057296081435,
            "x": 0.7612010504365124,
            "y": 0.5249001818027941
           },
           {
            "mean": 0.9756004493358209,
            "x": 0.15620355522259766,
            "y": 0.9547455258002749
           },
           {
            "mean": 0.8550388379267164,
            "x": 0.3807376551817321,
            "y": 0.8815785891423717
           },
           {
            "mean": 0.2812923273371474,
            "x": 0.8477662842215729,
            "y": 0.3484085684116592
           },
           {
            "mean": 0.9890290960159205,
            "x": 0.10474208315705569,
            "y": 1.1517636168086738
           },
           {
            "mean": 0.5627490730324451,
            "x": 0.6612495194459916,
            "y": 0.662003589093878
           },
           {
            "mean": 0.14739304502778527,
            "x": 0.9233671831791591,
            "y": 0.03341477947919677
           },
           {
            "mean": 0.9535594350046773,
            "x": 0.2155007308463771,
            "y": 0.8233807393861459
           },
           {
            "mean": 0.012408611286876536,
            "x": 0.9937763273056586,
            "y": -0.05283764785025967
           },
           {
            "mean": 0.9998998981968085,
            "x": 0.010005088864750156,
            "y": 0.9510287388866084
           },
           {
            "mean": 0.08897417735561808,
            "x": 0.954476727136069,
            "y": 0.2540088303735515
           },
           {
            "mean": 0.33169720359871435,
            "x": 0.8174978877044794,
            "y": 0.25762607774554824
           },
           {
            "mean": 0.3126952572363061,
            "x": 0.8290384446837757,
            "y": 0.41613352389711816
           },
           {
            "mean": 0.6877901745707214,
            "x": 0.558757394071236,
            "y": 0.7281357809125049
           },
           {
            "mean": 0.8441247392344986,
            "x": 0.39481041116655147,
            "y": 0.8759220431922391
           },
           {
            "mean": 0.9255015472014189,
            "x": 0.2729440470107035,
            "y": 0.8319285980420547
           },
           {
            "mean": 0.9967445488583179,
            "x": 0.05705656089953348,
            "y": 1.009818374951756
           },
           {
            "mean": 0.9924171176216017,
            "x": 0.08707974723434997,
            "y": 0.9676148429135338
           },
           {
            "mean": 0.9357577451446584,
            "x": 0.2534605587765907,
            "y": 1.0205259062039873
           },
           {
            "mean": 0.9786972040843905,
            "x": 0.1459547735279989,
            "y": 0.8445981822243708
           },
           {
            "mean": 0.7888506589964775,
            "x": 0.4595098921715641,
            "y": 0.879894923462186
           },
           {
            "mean": 0.4646044252366788,
            "x": 0.7317073012915214,
            "y": 0.28090371451311047
           },
           {
            "mean": 0.5183688835896882,
            "x": 0.6939964815547063,
            "y": 0.42726956877047734
           },
           {
            "mean": 0.37426794312379086,
            "x": 0.7910322729675504,
            "y": 0.2330787306530854
           },
           {
            "mean": 0.998799251958548,
            "x": 0.034651811517609654,
            "y": 1.061155283765768
           },
           {
            "mean": 0.8796949688408822,
            "x": 0.34685015663700924,
            "y": 0.8509347889967238
           },
           {
            "mean": 0.35956227471640156,
            "x": 0.8002735315400594,
            "y": 0.2939621387935344
           },
           {
            "mean": 0.8850468181727007,
            "x": 0.3390474624994254,
            "y": 0.7786017153882158
           },
           {
            "mean": 0.9656764785682002,
            "x": 0.1852660827885123,
            "y": 1.0737695232426279
           },
           {
            "mean": 0.8695664728590456,
            "x": 0.36115582113674194,
            "y": 0.6937482110178503
           },
           {
            "mean": 0.9463284825786773,
            "x": 0.2316711406742814,
            "y": 0.9655250367120877
           },
           {
            "mean": 0.9993676088700756,
            "x": 0.025147388133251125,
            "y": 0.9466787059160529
           },
           {
            "mean": 0.5216198076890012,
            "x": 0.6916503396305093,
            "y": 0.5331761558520874
           },
           {
            "mean": 0.09285500796078194,
            "x": 0.9524415950803587,
            "y": 0.07122655240502739
           },
           {
            "mean": 0.170284345864399,
            "x": 0.9108872894796595,
            "y": 0.0005027164650597271
           },
           {
            "mean": 0.6916818537157501,
            "x": 0.5552640329467144,
            "y": 0.6921892990528405
           },
           {
            "mean": 0.11814144241041558,
            "x": 0.9390732439962202,
            "y": 0.043329162386485806
           },
           {
            "mean": 0.6292988328549741,
            "x": 0.608852336075855,
            "y": 0.5646492749442326
           },
           {
            "mean": 0.43629357538956104,
            "x": 0.7508038522879588,
            "y": 0.3797571792706737
           },
           {
            "mean": 0.5043408606885885,
            "x": 0.7040306380488078,
            "y": 0.43017308631674733
           },
           {
            "mean": 0.6107001640253791,
            "x": 0.6239389681488254,
            "y": 0.6985036510456492
           },
           {
            "mean": 0.3239276491593971,
            "x": 0.8222361892063635,
            "y": 0.4026051431290626
           },
           {
            "mean": 0.9615473033667495,
            "x": 0.19609359151499695,
            "y": 1.1182689687352498
           },
           {
            "mean": 0.46221493263903546,
            "x": 0.7333383034868454,
            "y": 0.3179751697607478
           },
           {
            "mean": 0.33980806494243887,
            "x": 0.8125219597386653,
            "y": 0.5008893374420689
           },
           {
            "mean": 0.7245122762699503,
            "x": 0.5248692444124057,
            "y": 0.7283806487108542
           },
           {
            "mean": 0.19073346990191165,
            "x": 0.89959242443347,
            "y": 0.010243127901123694
           },
           {
            "mean": 0.38172948257940376,
            "x": 0.7863017979253235,
            "y": 0.33247049287851016
           },
           {
            "mean": 0.626657836847762,
            "x": 0.6110173182097526,
            "y": 0.6569519556783536
           },
           {
            "mean": 0.0822773545106662,
            "x": 0.9579784159830188,
            "y": -0.002664804455353928
           },
           {
            "mean": 0.9446260421366297,
            "x": 0.23531671819777333,
            "y": 0.7953849685229684
           },
           {
            "mean": 0.9799917654555833,
            "x": 0.14145046675220496,
            "y": 0.9985689363246744
           },
           {
            "mean": 0.9217392208834357,
            "x": 0.27975128081308986,
            "y": 0.9848809391313545
           },
           {
            "mean": 0.7494118251671358,
            "x": 0.5005878292895906,
            "y": 0.9056880160618993
           },
           {
            "mean": 0.6479761051159079,
            "x": 0.5933160160353773,
            "y": 0.5789816528527828
           },
           {
            "mean": 0.9159015871770679,
            "x": 0.2899972634749026,
            "y": 0.8740586369768183
           },
           {
            "mean": 0.9255976166260201,
            "x": 0.2727680028412054,
            "y": 0.6678937248407473
           },
           {
            "mean": 0.8111423924604414,
            "x": 0.43457750464049405,
            "y": 0.8308280101225601
           },
           {
            "mean": 0.9985731425926528,
            "x": 0.037773766126072195,
            "y": 1.0051560646128903
           },
           {
            "mean": 0.7390760649140478,
            "x": 0.510807140793815,
            "y": 0.5362482829836606
           },
           {
            "mean": 0.6362110668654503,
            "x": 0.6031491798341019,
            "y": 0.44406487161093444
           },
           {
            "mean": 0.3647727944685111,
            "x": 0.7970114212051725,
            "y": 0.46540573326766754
           },
           {
            "mean": 0.16925911181147413,
            "x": 0.911449882433766,
            "y": 0.08814660565857096
           },
           {
            "mean": 0.9341984962530367,
            "x": 0.2565180378588673,
            "y": 0.8663756191143767
           },
           {
            "mean": 0.9494123907621596,
            "x": 0.22491689406943283,
            "y": 0.84291363922152
           },
           {
            "mean": 0.4041090224430285,
            "x": 0.7719397499526576,
            "y": 0.46420592652996173
           },
           {
            "mean": 0.12051865085205016,
            "x": 0.9378066693876461,
            "y": 0.018367898056347032
           },
           {
            "mean": 0.9562722765264746,
            "x": 0.20911174876970773,
            "y": 1.01041906839869
           },
           {
            "mean": 0.5819668390723389,
            "x": 0.6465548398455162,
            "y": 0.6620273109323557
           },
           {
            "mean": 0.9301402310909099,
            "x": 0.26430998639682557,
            "y": 0.8251355309464959
           },
           {
            "mean": 0.9218094705369198,
            "x": 0.27962569528403547,
            "y": 1.0929568451613205
           },
           {
            "mean": 0.15996016297298243,
            "x": 0.9165368716134761,
            "y": 0.20627679612441704
           },
           {
            "mean": 0.8273178117071218,
            "x": 0.41555046419523844,
            "y": 0.8271256195904062
           },
           {
            "mean": 0.7017036552553375,
            "x": 0.5461651258956969,
            "y": 0.8745843227470189
           },
           {
            "mean": 0.04121018636954077,
            "x": 0.9791781317158075,
            "y": 0.06577899918090799
           },
           {
            "mean": 0.9009366182655811,
            "x": 0.31474335852312896,
            "y": 0.9003689934388756
           },
           {
            "mean": 0.31904233964643525,
            "x": 0.8252015877066432,
            "y": 0.3319140500814952
           },
           {
            "mean": 0.8565797507559885,
            "x": 0.3787086601122446,
            "y": 0.8710550326887475
           },
           {
            "mean": 0.48609680950848,
            "x": 0.716870414016034,
            "y": 0.4748235589057481
           },
           {
            "mean": 0.9958599192200365,
            "x": 0.06434345949638998,
            "y": 0.8888032134496819
           },
           {
            "mean": 0.9927416002179713,
            "x": 0.08519624276943616,
            "y": 0.9312663395520331
           },
           {
            "mean": 0.831489382540793,
            "x": 0.4105004475749169,
            "y": 0.607912426182659
           },
           {
            "mean": 0.9127000753074191,
            "x": 0.2954656066153569,
            "y": 1.1583204172712669
           },
           {
            "mean": 0.9668370719556063,
            "x": 0.18210691377428168,
            "y": 0.9257453546134518
           }
          ]
         },
         "encoding": {
          "opacity": {
           "value": 0.25
          },
          "x": {
           "field": "x",
           "type": "quantitative"
          },
          "y": {
           "field": "y",
           "type": "quantitative"
          }
         },
         "height": 300,
         "mark": {
          "color": "black",
          "size": 75,
          "type": "circle"
         },
         "width": 800
        },
        {
         "data": {
          "values": [
           {
            "mean": 0.6690572751701303,
            "x": 0.5752762161169795,
            "y": 0.5651416166297898
           },
           {
            "mean": 0.9019355951232413,
            "x": 0.31315236687075954,
            "y": 0.8778807331608367
           },
           {
            "mean": 0.9880522219144652,
            "x": 0.10930589227271692,
            "y": 0.9480938917434333
           },
           {
            "mean": 0.222204729649627,
            "x": 0.8819270209889098,
            "y": 0.35816892614098617
           },
           {
            "mean": 0.7107607422931151,
            "x": 0.5378096853970602,
            "y": 0.7605697781151755
           },
           {
            "mean": 0.9787737950786861,
            "x": 0.14569215806389146,
            "y": 0.9312444061040414
           },
           {
            "mean": 0.7747883420270191,
            "x": 0.47456470367377823,
            "y": 0.785168116794383
           },
           {
            "mean": 0.275546388052042,
            "x": 0.8511484077104051,
            "y": 0.2144374911932714
           },
           {
            "mean": 0.6319921369773795,
            "x": 0.6066365163939774,
            "y": 0.42251052009342627
           },
           {
            "mean": 0.9465873404334679,
            "x": 0.23111179019368988,
            "y": 1.000372377378147
           },
           {
            "mean": 0.892605115551654,
            "x": 0.32771158729643046,
            "y": 0.9341531993771518
           },
           {
            "mean": 0.194727848493228,
            "x": 0.8973695735352141,
            "y": 0.3972140130556081
           },
           {
            "mean": 0.35856454325474285,
            "x": 0.8008966579685903,
            "y": 0.5553124825685476
           },
           {
            "mean": 0.9997319914937479,
            "x": 0.01637096534270721,
            "y": 0.9526481950259206
           },
           {
            "mean": 0.10966052542560423,
            "x": 0.9435780172165923,
            "y": 0.21599328383332952
           },
           {
            "mean": 0.8182287271844502,
            "x": 0.4263464234815977,
            "y": 0.6336234989024633
           },
           {
            "mean": 0.7231167545396562,
            "x": 0.5261969645107656,
            "y": 0.544077107569613
           },
           {
            "mean": 0.6154582101699666,
            "x": 0.6201143360945894,
            "y": 0.8013286438436066
           },
           {
            "mean": 0.391992184521033,
            "x": 0.7797485591387566,
            "y": 0.4487789009000404
           },
           {
            "mean": 0.9749965171094865,
            "x": 0.15812489649170847,
            "y": 0.8242732226966496
           },
           {
            "mean": 0.989451854260997,
            "x": 0.10270416612291322,
            "y": 1.162502671447461
           },
           {
            "mean": 0.8715021911530003,
            "x": 0.35846591029971,
            "y": 0.7892120901476528
           },
           {
            "mean": 0.840447007411918,
            "x": 0.39944084992409323,
            "y": 0.8605190473401532
           },
           {
            "mean": 0.9960427869423852,
            "x": 0.06290638328194342,
            "y": 0.9277413872566563
           },
           {
            "mean": 0.9038210046468376,
            "x": 0.310127385687176,
            "y": 0.9181769604382956
           },
           {
            "mean": 0.8927947640805067,
            "x": 0.3274221066444556,
            "y": 0.8355495404103563
           },
           {
            "mean": 0.12213774858773363,
            "x": 0.9369430353080525,
            "y": 0.16802850141934236
           },
           {
            "mean": 0.6401590393152923,
            "x": 0.599867452596578,
            "y": 0.5416098102486318
           },
           {
            "mean": 0.6038561273578104,
            "x": 0.6293996128392435,
            "y": 0.4425738705437041
           },
           {
            "mean": 0.9526683428860021,
            "x": 0.2175583993184309,
            "y": 0.8393922998301893
           },
           {
            "mean": 0.7016656405979254,
            "x": 0.546199926219397,
            "y": 0.8227369330165751
           },
           {
            "mean": 0.16933651522884074,
            "x": 0.9114074197476995,
            "y": -0.026064764513791056
           },
           {
            "mean": 0.9929126579279497,
            "x": 0.0841863532411894,
            "y": 0.8212913891042625
           },
           {
            "mean": 0.9997802944555951,
            "x": 0.014822467554521324,
            "y": 1.0381118375907041
           },
           {
            "mean": 0.48927458922908096,
            "x": 0.7146505515081613,
            "y": 0.43005042896350976
           },
           {
            "mean": 0.9999997537941813,
            "x": 0.0004961913126649842,
            "y": 0.970141726658922
           },
           {
            "mean": 0.8132577709397231,
            "x": 0.43213681752458555,
            "y": 0.6217713577855193
           },
           {
            "mean": 0.9670390023441828,
            "x": 0.18155163908876482,
            "y": 1.0565365030382348
           },
           {
            "mean": 0.9075713290709944,
            "x": 0.30402083962946636,
            "y": 0.8746508311528132
           },
           {
            "mean": 0.9513497119212256,
            "x": 0.2205681030402501,
            "y": 0.918126448010103
           },
           {
            "mean": 0.6777077862145893,
            "x": 0.5677078595416931,
            "y": 0.6623690297216142
           },
           {
            "mean": 0.6825648683216048,
            "x": 0.563413819211417,
            "y": 0.6003510981905056
           },
           {
            "mean": 0.69588111727465,
            "x": 0.5514697477879907,
            "y": 0.874698225416767
           },
           {
            "mean": 0.3330551838775133,
            "x": 0.81666689422462,
            "y": 0.4760021301324404
           },
           {
            "mean": 0.35145190675626525,
            "x": 0.8053248370960222,
            "y": 0.24015162689586333
           },
           {
            "mean": 0.4943639161955824,
            "x": 0.7110809263399052,
            "y": 0.4722619792210807
           },
           {
            "mean": 0.986577816646876,
            "x": 0.11585414689653506,
            "y": 1.0783249888797772
           },
           {
            "mean": 0.9883660474190668,
            "x": 0.10786080187414337,
            "y": 1.2469718241405443
           },
           {
            "mean": 0.8774851140374961,
            "x": 0.35002126501471864,
            "y": 0.7484541535426844
           },
           {
            "mean": 0.660712210846482,
            "x": 0.5824841535642992,
            "y": 0.6276372000450373
           },
           {
            "mean": 0.995048351261134,
            "x": 0.07036795249874794,
            "y": 1.0892975798277127
           },
           {
            "mean": 0.7392064025035818,
            "x": 0.5106795448188798,
            "y": 0.8068579583785127
           },
           {
            "mean": 0.9864688352069217,
            "x": 0.11632353499218595,
            "y": 0.9279829756160543
           },
           {
            "mean": 0.06749196792094447,
            "x": 0.9656645546353327,
            "y": 0.1442520868149601
           },
           {
            "mean": 0.650488899946702,
            "x": 0.591194638045118,
            "y": 0.6637257676285365
           },
           {
            "mean": 0.6369497729880071,
            "x": 0.6025364943403784,
            "y": 0.4703548440077687
           },
           {
            "mean": 0.0981130554120292,
            "x": 0.949677284443495,
            "y": 0.30883521151404414
           },
           {
            "mean": 0.9251795431807355,
            "x": 0.2735332828364119,
            "y": 0.8826079788692491
           },
           {
            "mean": 0.775666004130281,
            "x": 0.4736390987552854,
            "y": 0.9668692675984157
           },
           {
            "mean": 0.9609979671261246,
            "x": 0.1974893234427506,
            "y": 0.9098064752562263
           },
           {
            "mean": 0.32833889218759893,
            "x": 0.8195493321407815,
            "y": 0.3303970580116556
           },
           {
            "mean": 0.9996717268933945,
            "x": 0.018118308602227517,
            "y": 0.9860238802777367
           },
           {
            "mean": 0.13788612274327472,
            "x": 0.9285008762821526,
            "y": 0.12693557880113637
           },
           {
            "mean": 0.959855097001172,
            "x": 0.20036193001373293,
            "y": 0.9253689400820831
           },
           {
            "mean": 0.7199463160491717,
            "x": 0.52920098634718,
            "y": 0.6615696324522111
           },
           {
            "mean": 0.9952149807920446,
            "x": 0.0691738332605285,
            "y": 1.1155064438249969
           },
           {
            "mean": 0.7693984434410763,
            "x": 0.4802099088512478,
            "y": 0.7579406418519831
           },
           {
            "mean": 0.14048635160646528,
            "x": 0.9270995892532445,
            "y": -0.018414487529809148
           },
           {
            "mean": 0.91331202602201,
            "x": 0.29442821532249597,
            "y": 0.9083507627253307
           },
           {
            "mean": 0.11332792095370026,
            "x": 0.941632666726415,
            "y": 0.11027470540980203
           },
           {
            "mean": 0.9615363141758024,
            "x": 0.19612160978382165,
            "y": 0.8195431163897269
           },
           {
            "mean": 0.7201074713250317,
            "x": 0.5290487016097557,
            "y": 0.7214945186419298
           },
           {
            "mean": 0.8490568650285987,
            "x": 0.38851400871963593,
            "y": 0.7824978192543859
           },
           {
            "mean": 0.6515020770182537,
            "x": 0.590337126548675,
            "y": 0.7057879905662413
           },
           {
            "mean": 0.488019488107037,
            "x": 0.715528134941571,
            "y": 0.522966637741326
           },
           {
            "mean": 0.7044653963469891,
            "x": 0.5436309443482875,
            "y": 0.7094848577116146
           },
           {
            "mean": 0.8026006385493807,
            "x": 0.44429647922374904,
            "y": 0.8678825980780135
           },
           {
            "mean": 0.45640854580119716,
            "x": 0.7372865482285723,
            "y": 0.5578038691674627
           },
           {
            "mean": 0.9383581109833078,
            "x": 0.24827784640739126,
            "y": 0.7744830227448123
           },
           {
            "mean": 0.9997231197262302,
            "x": 0.01663971976235734,
            "y": 1.1320432617882323
           },
           {
            "mean": 0.5526846897665945,
            "x": 0.6688163501540655,
            "y": 0.47268804869179937
           },
           {
            "mean": 0.814301319421636,
            "x": 0.4309276976226569,
            "y": 0.8253703371262753
           },
           {
            "mean": 0.4554948520741645,
            "x": 0.7379059207824772,
            "y": 0.551119795146728
           },
           {
            "mean": 0.3773077122758488,
            "x": 0.7891085398879872,
            "y": 0.39908643772125546
           },
           {
            "mean": 0.8419709703478874,
            "x": 0.39752865261778636,
            "y": 0.6869789870660532
           },
           {
            "mean": 0.9272620494905579,
            "x": 0.2696997413966913,
            "y": 0.8733825463240585
           },
           {
            "mean": 0.42493496822994725,
            "x": 0.7583304238721091,
            "y": 0.3173162338327619
           },
           {
            "mean": 0.9937066895939132,
            "x": 0.07933038765874523,
            "y": 1.1231630964452828
           },
           {
            "mean": 0.6592090842325127,
            "x": 0.5837730002042637,
            "y": 0.5158482868255151
           },
           {
            "mean": 0.38854189281265683,
            "x": 0.7819578679106332,
            "y": 0.3447553917177184
           },
           {
            "mean": 0.7888808171460482,
            "x": 0.4594770754389732,
            "y": 0.8061637673043153
           },
           {
            "mean": 0.9836086254168863,
            "x": 0.1280288037244499,
            "y": 1.0382832667820447
           },
           {
            "mean": 0.8550020920816126,
            "x": 0.3807859082455486,
            "y": 0.9855635789486856
           },
           {
            "mean": 0.9277618498080746,
            "x": 0.2687715576319887,
            "y": 0.9674674432267181
           },
           {
            "mean": 0.932089445356609,
            "x": 0.2605965361308378,
            "y": 1.0320738647275554
           },
           {
            "mean": 0.4640928646848913,
            "x": 0.7320567842149328,
            "y": 0.5711119617766168
           },
           {
            "mean": 0.788921641650967,
            "x": 0.45943264832729613,
            "y": 0.7692796209609141
           },
           {
            "mean": 0.9895963848484419,
            "x": 0.10199811347058363,
            "y": 0.9526742719610373
           },
           {
            "mean": 0.2916119553571088,
            "x": 0.8416579142638007,
            "y": 0.22660676641906002
           },
           {
            "mean": 0.48116822594791786,
            "x": 0.7202997806830723,
            "y": 0.4986436615498033
           },
           {
            "mean": 0.4016643614007843,
            "x": 0.7735215825038211,
            "y": 0.44729574677702144
           },
           {
            "mean": 0.9370287397068487,
            "x": 0.25094075056305865,
            "y": 1.0211011860586823
           },
           {
            "mean": 0.2569850424308481,
            "x": 0.8619831538778191,
            "y": 0.38832129302877505
           },
           {
            "mean": 0.7633664367444307,
            "x": 0.4864499596624192,
            "y": 0.779106987799461
           },
           {
            "mean": 0.8824648867271038,
            "x": 0.3428339441667003,
            "y": 0.9070288646868852
           },
           {
            "mean": 0.9946545254847478,
            "x": 0.07311275207002044,
            "y": 1.0842773980222815
           },
           {
            "mean": 0.8804344365170156,
            "x": 0.34578253785144264,
            "y": 0.8765875539164566
           },
           {
            "mean": 0.9996912196170598,
            "x": 0.017572147931890325,
            "y": 0.9325738361434563
           },
           {
            "mean": 0.5336365385060442,
            "x": 0.6829080915423069,
            "y": 0.4823667317403646
           },
           {
            "mean": 0.9310520261179092,
            "x": 0.2625794620340496,
            "y": 0.9167062457952002
           },
           {
            "mean": 0.8483178008589642,
            "x": 0.38946398953052863,
            "y": 0.8620954835188918
           },
           {
            "mean": 0.9745882963674379,
            "x": 0.1594104878374133,
            "y": 0.9745785772447529
           },
           {
            "mean": 0.8856982786179586,
            "x": 0.33808537587722043,
            "y": 0.7567568085620332
           },
           {
            "mean": 0.2487163635430114,
            "x": 0.8667661948051438,
            "y": 0.19959010688956172
           },
           {
            "mean": 0.9360474984720873,
            "x": 0.2528883182907282,
            "y": 0.9127629459725466
           },
           {
            "mean": 0.9064595628984159,
            "x": 0.30584381161237195,
            "y": 0.8715162266449943
           },
           {
            "mean": 0.22533293390897502,
            "x": 0.880151729016665,
            "y": 0.23448823338765437
           },
           {
            "mean": 0.8445761210100211,
            "x": 0.3942383530175355,
            "y": 1.055558078540508
           },
           {
            "mean": 0.9993522081827995,
            "x": 0.025451754697869755,
            "y": 1.2071326970931968
           },
           {
            "mean": 0.9711259061470006,
            "x": 0.16992378836701905,
            "y": 0.8925507799290543
           },
           {
            "mean": 0.6704882465296361,
            "x": 0.5740311432930829,
            "y": 0.47452497381991104
           },
           {
            "mean": 0.42488026802054346,
            "x": 0.7583664892250029,
            "y": 0.43255813680055055
           },
           {
            "mean": 0.916274853379048,
            "x": 0.28935297928473447,
            "y": 0.8364848406726547
           },
           {
            "mean": 0.8486386128963868,
            "x": 0.38905190798094447,
            "y": 0.8081357233183043
           },
           {
            "mean": 0.38477920145816313,
            "x": 0.7843601204433056,
            "y": 0.310651334540401
           },
           {
            "mean": 0.7897057752558236,
            "x": 0.4585784826441123,
            "y": 0.7391346009523632
           },
           {
            "mean": 0.8932897405205797,
            "x": 0.3266653631461717,
            "y": 0.8849294970131796
           },
           {
            "mean": 0.9358025785388923,
            "x": 0.25337210079467654,
            "y": 1.1499427854879891
           },
           {
            "mean": 0.909728282115275,
            "x": 0.300452521847837,
            "y": 0.8020675698610036
           },
           {
            "mean": 0.9988812171248156,
            "x": 0.03344821183836899,
            "y": 0.965360149600277
           },
           {
            "mean": 0.9742829887664981,
            "x": 0.16036524322153456,
            "y": 0.9296676133732251
           },
           {
            "mean": 0.9957715239574861,
            "x": 0.0650267332911153,
            "y": 0.9720914481261254
           },
           {
            "mean": 0.36669558814066394,
            "x": 0.7958042547381461,
            "y": 0.46523633744326
           },
           {
            "mean": 0.18159267012906177,
            "x": 0.9046586814213072,
            "y": 0.03499307615330413
           },
           {
            "mean": 0.9568119391609827,
            "x": 0.20781737376604792,
            "y": 0.9682871641145715
           },
           {
            "mean": 0.3214858470673656,
            "x": 0.8237197053201012,
            "y": 0.3879147470647034
           },
           {
            "mean": 0.9587383770321214,
            "x": 0.20312957186948088,
            "y": 0.9499893093485253
           },
           {
            "mean": 0.5027058232971224,
            "x": 0.7051908796225868,
            "y": 0.4891067241035676
           },
           {
            "mean": 0.9839126006584875,
            "x": 0.12683611213496115,
            "y": 0.8716227625916255
           },
           {
            "mean": 0.780857835544815,
            "x": 0.46812622705332907,
            "y": 0.7059208006757652
           },
           {
            "mean": 0.20458135032109104,
            "x": 0.8918624611894532,
            "y": 0.35982920560647735
           },
           {
            "mean": 0.20150282928113816,
            "x": 0.8935866889781102,
            "y": 0.08512882933358129
           },
           {
            "mean": 0.9300641048802409,
            "x": 0.26445395652128,
            "y": 0.8661244094969149
           },
           {
            "mean": 0.24515031322805858,
            "x": 0.8688208600004614,
            "y": 0.07343055075461474
           },
           {
            "mean": 0.4307245980870825,
            "x": 0.754503414116144,
            "y": 0.5307022645347955
           },
           {
            "mean": 0.9853541381668339,
            "x": 0.12102008855213298,
            "y": 0.846142484438049
           },
           {
            "mean": 0.9473951758137926,
            "x": 0.22935741580818214,
            "y": 0.7936188704289959
           },
           {
            "mean": 0.31823470205040183,
            "x": 0.8256908004511121,
            "y": 0.3680821962625264
           },
           {
            "mean": 0.958485299663077,
            "x": 0.20375156523797044,
            "y": 0.8063053886610414
           },
           {
            "mean": 0.4915199591921998,
            "x": 0.7130778644775059,
            "y": 0.5915551721695808
           },
           {
            "mean": 0.38473108703097014,
            "x": 0.7843907909766852,
            "y": 0.49635644945626534
           },
           {
            "mean": 0.9798504427704945,
            "x": 0.14194913606466752,
            "y": 0.8029478366350625
           },
           {
            "mean": 0.3684944881705494,
            "x": 0.7946732107158581,
            "y": 0.21328059777260833
           },
           {
            "mean": 0.2706024686629286,
            "x": 0.8540477336408495,
            "y": 0.3193552052668188
           },
           {
            "mean": 0.2356013358806247,
            "x": 0.8742989558036629,
            "y": 0.21971052619053436
           },
           {
            "mean": 0.9954037427671008,
            "x": 0.06779570217129716,
            "y": 0.9687725888701719
           },
           {
            "mean": 0.18474970822802506,
            "x": 0.9029121174134142,
            "y": 0.17543861437803285
           },
           {
            "mean": 0.4393306318145358,
            "x": 0.7487785842193032,
            "y": 0.4688599302052894
           },
           {
            "mean": 0.26168896712773404,
            "x": 0.8592502737109055,
            "y": 0.2548683639133248
           },
           {
            "mean": 0.9430904541051824,
            "x": 0.2385572172348125,
            "y": 0.9464670784135919
           },
           {
            "mean": 0.9881721682711546,
            "x": 0.10875583537836186,
            "y": 1.0945875024424898
           },
           {
            "mean": 0.9996760622564452,
            "x": 0.017998270571218833,
            "y": 0.9975316487412976
           },
           {
            "mean": 0.914753360922579,
            "x": 0.2919702708794528,
            "y": 0.9459895310327499
           },
           {
            "mean": 0.752524947256767,
            "x": 0.4974686449850212,
            "y": 0.7459561682933222
           },
           {
            "mean": 0.20639827885198458,
            "x": 0.8908432640751208,
            "y": 0.13200903770012803
           },
           {
            "mean": 0.4890670696858542,
            "x": 0.7147957262841922,
            "y": 0.5228369292671113
           },
           {
            "mean": 0.42057296081435,
            "x": 0.7612010504365124,
            "y": 0.5249001818027941
           },
           {
            "mean": 0.9756004493358209,
            "x": 0.15620355522259766,
            "y": 0.9547455258002749
           },
           {
            "mean": 0.8550388379267164,
            "x": 0.3807376551817321,
            "y": 0.8815785891423717
           },
           {
            "mean": 0.2812923273371474,
            "x": 0.8477662842215729,
            "y": 0.3484085684116592
           },
           {
            "mean": 0.9890290960159205,
            "x": 0.10474208315705569,
            "y": 1.1517636168086738
           },
           {
            "mean": 0.5627490730324451,
            "x": 0.6612495194459916,
            "y": 0.662003589093878
           },
           {
            "mean": 0.14739304502778527,
            "x": 0.9233671831791591,
            "y": 0.03341477947919677
           },
           {
            "mean": 0.9535594350046773,
            "x": 0.2155007308463771,
            "y": 0.8233807393861459
           },
           {
            "mean": 0.012408611286876536,
            "x": 0.9937763273056586,
            "y": -0.05283764785025967
           },
           {
            "mean": 0.9998998981968085,
            "x": 0.010005088864750156,
            "y": 0.9510287388866084
           },
           {
            "mean": 0.08897417735561808,
            "x": 0.954476727136069,
            "y": 0.2540088303735515
           },
           {
            "mean": 0.33169720359871435,
            "x": 0.8174978877044794,
            "y": 0.25762607774554824
           },
           {
            "mean": 0.3126952572363061,
            "x": 0.8290384446837757,
            "y": 0.41613352389711816
           },
           {
            "mean": 0.6877901745707214,
            "x": 0.558757394071236,
            "y": 0.7281357809125049
           },
           {
            "mean": 0.8441247392344986,
            "x": 0.39481041116655147,
            "y": 0.8759220431922391
           },
           {
            "mean": 0.9255015472014189,
            "x": 0.2729440470107035,
            "y": 0.8319285980420547
           },
           {
            "mean": 0.9967445488583179,
            "x": 0.05705656089953348,
            "y": 1.009818374951756
           },
           {
            "mean": 0.9924171176216017,
            "x": 0.08707974723434997,
            "y": 0.9676148429135338
           },
           {
            "mean": 0.9357577451446584,
            "x": 0.2534605587765907,
            "y": 1.0205259062039873
           },
           {
            "mean": 0.9786972040843905,
            "x": 0.1459547735279989,
            "y": 0.8445981822243708
           },
           {
            "mean": 0.7888506589964775,
            "x": 0.4595098921715641,
            "y": 0.879894923462186
           },
           {
            "mean": 0.4646044252366788,
            "x": 0.7317073012915214,
            "y": 0.28090371451311047
           },
           {
            "mean": 0.5183688835896882,
            "x": 0.6939964815547063,
            "y": 0.42726956877047734
           },
           {
            "mean": 0.37426794312379086,
            "x": 0.7910322729675504,
            "y": 0.2330787306530854
           },
           {
            "mean": 0.998799251958548,
            "x": 0.034651811517609654,
            "y": 1.061155283765768
           },
           {
            "mean": 0.8796949688408822,
            "x": 0.34685015663700924,
            "y": 0.8509347889967238
           },
           {
            "mean": 0.35956227471640156,
            "x": 0.8002735315400594,
            "y": 0.2939621387935344
           },
           {
            "mean": 0.8850468181727007,
            "x": 0.3390474624994254,
            "y": 0.7786017153882158
           },
           {
            "mean": 0.9656764785682002,
            "x": 0.1852660827885123,
            "y": 1.0737695232426279
           },
           {
            "mean": 0.8695664728590456,
            "x": 0.36115582113674194,
            "y": 0.6937482110178503
           },
           {
            "mean": 0.9463284825786773,
            "x": 0.2316711406742814,
            "y": 0.9655250367120877
           },
           {
            "mean": 0.9993676088700756,
            "x": 0.025147388133251125,
            "y": 0.9466787059160529
           },
           {
            "mean": 0.5216198076890012,
            "x": 0.6916503396305093,
            "y": 0.5331761558520874
           },
           {
            "mean": 0.09285500796078194,
            "x": 0.9524415950803587,
            "y": 0.07122655240502739
           },
           {
            "mean": 0.170284345864399,
            "x": 0.9108872894796595,
            "y": 0.0005027164650597271
           },
           {
            "mean": 0.6916818537157501,
            "x": 0.5552640329467144,
            "y": 0.6921892990528405
           },
           {
            "mean": 0.11814144241041558,
            "x": 0.9390732439962202,
            "y": 0.043329162386485806
           },
           {
            "mean": 0.6292988328549741,
            "x": 0.608852336075855,
            "y": 0.5646492749442326
           },
           {
            "mean": 0.43629357538956104,
            "x": 0.7508038522879588,
            "y": 0.3797571792706737
           },
           {
            "mean": 0.5043408606885885,
            "x": 0.7040306380488078,
            "y": 0.43017308631674733
           },
           {
            "mean": 0.6107001640253791,
            "x": 0.6239389681488254,
            "y": 0.6985036510456492
           },
           {
            "mean": 0.3239276491593971,
            "x": 0.8222361892063635,
            "y": 0.4026051431290626
           },
           {
            "mean": 0.9615473033667495,
            "x": 0.19609359151499695,
            "y": 1.1182689687352498
           },
           {
            "mean": 0.46221493263903546,
            "x": 0.7333383034868454,
            "y": 0.3179751697607478
           },
           {
            "mean": 0.33980806494243887,
            "x": 0.8125219597386653,
            "y": 0.5008893374420689
           },
           {
            "mean": 0.7245122762699503,
            "x": 0.5248692444124057,
            "y": 0.7283806487108542
           },
           {
            "mean": 0.19073346990191165,
            "x": 0.89959242443347,
            "y": 0.010243127901123694
           },
           {
            "mean": 0.38172948257940376,
            "x": 0.7863017979253235,
            "y": 0.33247049287851016
           },
           {
            "mean": 0.626657836847762,
            "x": 0.6110173182097526,
            "y": 0.6569519556783536
           },
           {
            "mean": 0.0822773545106662,
            "x": 0.9579784159830188,
            "y": -0.002664804455353928
           },
           {
            "mean": 0.9446260421366297,
            "x": 0.23531671819777333,
            "y": 0.7953849685229684
           },
           {
            "mean": 0.9799917654555833,
            "x": 0.14145046675220496,
            "y": 0.9985689363246744
           },
           {
            "mean": 0.9217392208834357,
            "x": 0.27975128081308986,
            "y": 0.9848809391313545
           },
           {
            "mean": 0.7494118251671358,
            "x": 0.5005878292895906,
            "y": 0.9056880160618993
           },
           {
            "mean": 0.6479761051159079,
            "x": 0.5933160160353773,
            "y": 0.5789816528527828
           },
           {
            "mean": 0.9159015871770679,
            "x": 0.2899972634749026,
            "y": 0.8740586369768183
           },
           {
            "mean": 0.9255976166260201,
            "x": 0.2727680028412054,
            "y": 0.6678937248407473
           },
           {
            "mean": 0.8111423924604414,
            "x": 0.43457750464049405,
            "y": 0.8308280101225601
           },
           {
            "mean": 0.9985731425926528,
            "x": 0.037773766126072195,
            "y": 1.0051560646128903
           },
           {
            "mean": 0.7390760649140478,
            "x": 0.510807140793815,
            "y": 0.5362482829836606
           },
           {
            "mean": 0.6362110668654503,
            "x": 0.6031491798341019,
            "y": 0.44406487161093444
           },
           {
            "mean": 0.3647727944685111,
            "x": 0.7970114212051725,
            "y": 0.46540573326766754
           },
           {
            "mean": 0.16925911181147413,
            "x": 0.911449882433766,
            "y": 0.08814660565857096
           },
           {
            "mean": 0.9341984962530367,
            "x": 0.2565180378588673,
            "y": 0.8663756191143767
           },
           {
            "mean": 0.9494123907621596,
            "x": 0.22491689406943283,
            "y": 0.84291363922152
           },
           {
            "mean": 0.4041090224430285,
            "x": 0.7719397499526576,
            "y": 0.46420592652996173
           },
           {
            "mean": 0.12051865085205016,
            "x": 0.9378066693876461,
            "y": 0.018367898056347032
           },
           {
            "mean": 0.9562722765264746,
            "x": 0.20911174876970773,
            "y": 1.01041906839869
           },
           {
            "mean": 0.5819668390723389,
            "x": 0.6465548398455162,
            "y": 0.6620273109323557
           },
           {
            "mean": 0.9301402310909099,
            "x": 0.26430998639682557,
            "y": 0.8251355309464959
           },
           {
            "mean": 0.9218094705369198,
            "x": 0.27962569528403547,
            "y": 1.0929568451613205
           },
           {
            "mean": 0.15996016297298243,
            "x": 0.9165368716134761,
            "y": 0.20627679612441704
           },
           {
            "mean": 0.8273178117071218,
            "x": 0.41555046419523844,
            "y": 0.8271256195904062
           },
           {
            "mean": 0.7017036552553375,
            "x": 0.5461651258956969,
            "y": 0.8745843227470189
           },
           {
            "mean": 0.04121018636954077,
            "x": 0.9791781317158075,
            "y": 0.06577899918090799
           },
           {
            "mean": 0.9009366182655811,
            "x": 0.31474335852312896,
            "y": 0.9003689934388756
           },
           {
            "mean": 0.31904233964643525,
            "x": 0.8252015877066432,
            "y": 0.3319140500814952
           },
           {
            "mean": 0.8565797507559885,
            "x": 0.3787086601122446,
            "y": 0.8710550326887475
           },
           {
            "mean": 0.48609680950848,
            "x": 0.716870414016034,
            "y": 0.4748235589057481
           },
           {
            "mean": 0.9958599192200365,
            "x": 0.06434345949638998,
            "y": 0.8888032134496819
           },
           {
            "mean": 0.9927416002179713,
            "x": 0.08519624276943616,
            "y": 0.9312663395520331
           },
           {
            "mean": 0.831489382540793,
            "x": 0.4105004475749169,
            "y": 0.607912426182659
           },
           {
            "mean": 0.9127000753074191,
            "x": 0.2954656066153569,
            "y": 1.1583204172712669
           },
           {
            "mean": 0.9668370719556063,
            "x": 0.18210691377428168,
            "y": 0.9257453546134518
           }
          ]
         },
         "encoding": {
          "opacity": {
           "value": 0.5
          },
          "x": {
           "field": "x",
           "type": "quantitative"
          },
          "y": {
           "field": "mean",
           "type": "quantitative"
          }
         },
         "height": 300,
         "mark": {
          "color": "black",
          "type": "line"
         },
         "width": 800
        }
       ]
      },
      "image/png": "[encoded data removed]",
      "text/plain": [
       "<VegaLite 2 object>\n",
       "\n",
       "If you see this message, it means the renderer has not been properly enabled\n",
       "for the frontend that you are using. For more information, see\n",
       "https://altair-viz.github.io/user_guide/troubleshooting.html\n"
      ]
     },
     "execution_count": 4,
     "metadata": {},
     "output_type": "execute_result"
    }
   ],
   "source": [
    "sample_plot = alt.Chart(sample_df, width=800, height=300).mark_circle(size=75, color='black').encode(\n",
    "    x='x',\n",
    "    y='y',\n",
    "    opacity=alt.value(0.25),\n",
    ")\n",
    "\n",
    "mean_plot = alt.Chart(sample_df, width=800, height=300).mark_line(color='black').encode(\n",
    "    x='x',\n",
    "    y='mean',\n",
    "    opacity=alt.value(0.5),\n",
    ")\n",
    "\n",
    "sample_plot + mean_plot"
   ]
  },
  {
   "cell_type": "code",
   "execution_count": 5,
   "metadata": {},
   "outputs": [],
   "source": [
    "from sklearn.linear_model import LinearRegression\n",
    "\n",
    "lr = LinearRegression()"
   ]
  },
  {
   "cell_type": "code",
   "execution_count": 6,
   "metadata": {},
   "outputs": [
    {
     "name": "stderr",
     "output_type": "stream",
     "text": [
      "/anaconda3/envs/rocketsled/lib/python3.6/site-packages/sklearn/linear_model/base.py:509: RuntimeWarning: internal gelsd driver lwork query error, required iwork dimension not returned. This is likely the result of LAPACK bug 0038, fixed in LAPACK 3.2.2 (released July 21, 2010). Falling back to 'gelss' driver.\n",
      "  linalg.lstsq(X, y)\n"
     ]
    },
    {
     "data": {
      "text/plain": [
       "LinearRegression(copy_X=True, fit_intercept=True, n_jobs=1, normalize=False)"
      ]
     },
     "execution_count": 6,
     "metadata": {},
     "output_type": "execute_result"
    }
   ],
   "source": [
    "lr.fit(np.array(sample_df['x']).reshape(-1,1), sample_df['y'])"
   ]
  },
  {
   "cell_type": "code",
   "execution_count": 11,
   "metadata": {},
   "outputs": [],
   "source": [
    "test_df = pd.DataFrame({\n",
    "    'x': test,\n",
    "    'y': 1 - test**2,\n",
    "    'pred': lr.predict(np.array(test).reshape(-1,1)),\n",
    "})"
   ]
  },
  {
   "cell_type": "code",
   "execution_count": 8,
   "metadata": {},
   "outputs": [
    {
     "data": {
      "application/vnd.vegalite.v2+json": {
       "$schema": "https://vega.github.io/schema/vega-lite/v2.4.3.json",
       "config": {
        "view": {
         "height": 300,
         "width": 400
        }
       },
       "layer": [
        {
         "data": {
          "values": [
           {
            "mean": 0.6690572751701303,
            "x": 0.5752762161169795,
            "y": 0.5651416166297898
           },
           {
            "mean": 0.9019355951232413,
            "x": 0.31315236687075954,
            "y": 0.8778807331608367
           },
           {
            "mean": 0.9880522219144652,
            "x": 0.10930589227271692,
            "y": 0.9480938917434333
           },
           {
            "mean": 0.222204729649627,
            "x": 0.8819270209889098,
            "y": 0.35816892614098617
           },
           {
            "mean": 0.7107607422931151,
            "x": 0.5378096853970602,
            "y": 0.7605697781151755
           },
           {
            "mean": 0.9787737950786861,
            "x": 0.14569215806389146,
            "y": 0.9312444061040414
           },
           {
            "mean": 0.7747883420270191,
            "x": 0.47456470367377823,
            "y": 0.785168116794383
           },
           {
            "mean": 0.275546388052042,
            "x": 0.8511484077104051,
            "y": 0.2144374911932714
           },
           {
            "mean": 0.6319921369773795,
            "x": 0.6066365163939774,
            "y": 0.42251052009342627
           },
           {
            "mean": 0.9465873404334679,
            "x": 0.23111179019368988,
            "y": 1.000372377378147
           },
           {
            "mean": 0.892605115551654,
            "x": 0.32771158729643046,
            "y": 0.9341531993771518
           },
           {
            "mean": 0.194727848493228,
            "x": 0.8973695735352141,
            "y": 0.3972140130556081
           },
           {
            "mean": 0.35856454325474285,
            "x": 0.8008966579685903,
            "y": 0.5553124825685476
           },
           {
            "mean": 0.9997319914937479,
            "x": 0.01637096534270721,
            "y": 0.9526481950259206
           },
           {
            "mean": 0.10966052542560423,
            "x": 0.9435780172165923,
            "y": 0.21599328383332952
           },
           {
            "mean": 0.8182287271844502,
            "x": 0.4263464234815977,
            "y": 0.6336234989024633
           },
           {
            "mean": 0.7231167545396562,
            "x": 0.5261969645107656,
            "y": 0.544077107569613
           },
           {
            "mean": 0.6154582101699666,
            "x": 0.6201143360945894,
            "y": 0.8013286438436066
           },
           {
            "mean": 0.391992184521033,
            "x": 0.7797485591387566,
            "y": 0.4487789009000404
           },
           {
            "mean": 0.9749965171094865,
            "x": 0.15812489649170847,
            "y": 0.8242732226966496
           },
           {
            "mean": 0.989451854260997,
            "x": 0.10270416612291322,
            "y": 1.162502671447461
           },
           {
            "mean": 0.8715021911530003,
            "x": 0.35846591029971,
            "y": 0.7892120901476528
           },
           {
            "mean": 0.840447007411918,
            "x": 0.39944084992409323,
            "y": 0.8605190473401532
           },
           {
            "mean": 0.9960427869423852,
            "x": 0.06290638328194342,
            "y": 0.9277413872566563
           },
           {
            "mean": 0.9038210046468376,
            "x": 0.310127385687176,
            "y": 0.9181769604382956
           },
           {
            "mean": 0.8927947640805067,
            "x": 0.3274221066444556,
            "y": 0.8355495404103563
           },
           {
            "mean": 0.12213774858773363,
            "x": 0.9369430353080525,
            "y": 0.16802850141934236
           },
           {
            "mean": 0.6401590393152923,
            "x": 0.599867452596578,
            "y": 0.5416098102486318
           },
           {
            "mean": 0.6038561273578104,
            "x": 0.6293996128392435,
            "y": 0.4425738705437041
           },
           {
            "mean": 0.9526683428860021,
            "x": 0.2175583993184309,
            "y": 0.8393922998301893
           },
           {
            "mean": 0.7016656405979254,
            "x": 0.546199926219397,
            "y": 0.8227369330165751
           },
           {
            "mean": 0.16933651522884074,
            "x": 0.9114074197476995,
            "y": -0.026064764513791056
           },
           {
            "mean": 0.9929126579279497,
            "x": 0.0841863532411894,
            "y": 0.8212913891042625
           },
           {
            "mean": 0.9997802944555951,
            "x": 0.014822467554521324,
            "y": 1.0381118375907041
           },
           {
            "mean": 0.48927458922908096,
            "x": 0.7146505515081613,
            "y": 0.43005042896350976
           },
           {
            "mean": 0.9999997537941813,
            "x": 0.0004961913126649842,
            "y": 0.970141726658922
           },
           {
            "mean": 0.8132577709397231,
            "x": 0.43213681752458555,
            "y": 0.6217713577855193
           },
           {
            "mean": 0.9670390023441828,
            "x": 0.18155163908876482,
            "y": 1.0565365030382348
           },
           {
            "mean": 0.9075713290709944,
            "x": 0.30402083962946636,
            "y": 0.8746508311528132
           },
           {
            "mean": 0.9513497119212256,
            "x": 0.2205681030402501,
            "y": 0.918126448010103
           },
           {
            "mean": 0.6777077862145893,
            "x": 0.5677078595416931,
            "y": 0.6623690297216142
           },
           {
            "mean": 0.6825648683216048,
            "x": 0.563413819211417,
            "y": 0.6003510981905056
           },
           {
            "mean": 0.69588111727465,
            "x": 0.5514697477879907,
            "y": 0.874698225416767
           },
           {
            "mean": 0.3330551838775133,
            "x": 0.81666689422462,
            "y": 0.4760021301324404
           },
           {
            "mean": 0.35145190675626525,
            "x": 0.8053248370960222,
            "y": 0.24015162689586333
           },
           {
            "mean": 0.4943639161955824,
            "x": 0.7110809263399052,
            "y": 0.4722619792210807
           },
           {
            "mean": 0.986577816646876,
            "x": 0.11585414689653506,
            "y": 1.0783249888797772
           },
           {
            "mean": 0.9883660474190668,
            "x": 0.10786080187414337,
            "y": 1.2469718241405443
           },
           {
            "mean": 0.8774851140374961,
            "x": 0.35002126501471864,
            "y": 0.7484541535426844
           },
           {
            "mean": 0.660712210846482,
            "x": 0.5824841535642992,
            "y": 0.6276372000450373
           },
           {
            "mean": 0.995048351261134,
            "x": 0.07036795249874794,
            "y": 1.0892975798277127
           },
           {
            "mean": 0.7392064025035818,
            "x": 0.5106795448188798,
            "y": 0.8068579583785127
           },
           {
            "mean": 0.9864688352069217,
            "x": 0.11632353499218595,
            "y": 0.9279829756160543
           },
           {
            "mean": 0.06749196792094447,
            "x": 0.9656645546353327,
            "y": 0.1442520868149601
           },
           {
            "mean": 0.650488899946702,
            "x": 0.591194638045118,
            "y": 0.6637257676285365
           },
           {
            "mean": 0.6369497729880071,
            "x": 0.6025364943403784,
            "y": 0.4703548440077687
           },
           {
            "mean": 0.0981130554120292,
            "x": 0.949677284443495,
            "y": 0.30883521151404414
           },
           {
            "mean": 0.9251795431807355,
            "x": 0.2735332828364119,
            "y": 0.8826079788692491
           },
           {
            "mean": 0.775666004130281,
            "x": 0.4736390987552854,
            "y": 0.9668692675984157
           },
           {
            "mean": 0.9609979671261246,
            "x": 0.1974893234427506,
            "y": 0.9098064752562263
           },
           {
            "mean": 0.32833889218759893,
            "x": 0.8195493321407815,
            "y": 0.3303970580116556
           },
           {
            "mean": 0.9996717268933945,
            "x": 0.018118308602227517,
            "y": 0.9860238802777367
           },
           {
            "mean": 0.13788612274327472,
            "x": 0.9285008762821526,
            "y": 0.12693557880113637
           },
           {
            "mean": 0.959855097001172,
            "x": 0.20036193001373293,
            "y": 0.9253689400820831
           },
           {
            "mean": 0.7199463160491717,
            "x": 0.52920098634718,
            "y": 0.6615696324522111
           },
           {
            "mean": 0.9952149807920446,
            "x": 0.0691738332605285,
            "y": 1.1155064438249969
           },
           {
            "mean": 0.7693984434410763,
            "x": 0.4802099088512478,
            "y": 0.7579406418519831
           },
           {
            "mean": 0.14048635160646528,
            "x": 0.9270995892532445,
            "y": -0.018414487529809148
           },
           {
            "mean": 0.91331202602201,
            "x": 0.29442821532249597,
            "y": 0.9083507627253307
           },
           {
            "mean": 0.11332792095370026,
            "x": 0.941632666726415,
            "y": 0.11027470540980203
           },
           {
            "mean": 0.9615363141758024,
            "x": 0.19612160978382165,
            "y": 0.8195431163897269
           },
           {
            "mean": 0.7201074713250317,
            "x": 0.5290487016097557,
            "y": 0.7214945186419298
           },
           {
            "mean": 0.8490568650285987,
            "x": 0.38851400871963593,
            "y": 0.7824978192543859
           },
           {
            "mean": 0.6515020770182537,
            "x": 0.590337126548675,
            "y": 0.7057879905662413
           },
           {
            "mean": 0.488019488107037,
            "x": 0.715528134941571,
            "y": 0.522966637741326
           },
           {
            "mean": 0.7044653963469891,
            "x": 0.5436309443482875,
            "y": 0.7094848577116146
           },
           {
            "mean": 0.8026006385493807,
            "x": 0.44429647922374904,
            "y": 0.8678825980780135
           },
           {
            "mean": 0.45640854580119716,
            "x": 0.7372865482285723,
            "y": 0.5578038691674627
           },
           {
            "mean": 0.9383581109833078,
            "x": 0.24827784640739126,
            "y": 0.7744830227448123
           },
           {
            "mean": 0.9997231197262302,
            "x": 0.01663971976235734,
            "y": 1.1320432617882323
           },
           {
            "mean": 0.5526846897665945,
            "x": 0.6688163501540655,
            "y": 0.47268804869179937
           },
           {
            "mean": 0.814301319421636,
            "x": 0.4309276976226569,
            "y": 0.8253703371262753
           },
           {
            "mean": 0.4554948520741645,
            "x": 0.7379059207824772,
            "y": 0.551119795146728
           },
           {
            "mean": 0.3773077122758488,
            "x": 0.7891085398879872,
            "y": 0.39908643772125546
           },
           {
            "mean": 0.8419709703478874,
            "x": 0.39752865261778636,
            "y": 0.6869789870660532
           },
           {
            "mean": 0.9272620494905579,
            "x": 0.2696997413966913,
            "y": 0.8733825463240585
           },
           {
            "mean": 0.42493496822994725,
            "x": 0.7583304238721091,
            "y": 0.3173162338327619
           },
           {
            "mean": 0.9937066895939132,
            "x": 0.07933038765874523,
            "y": 1.1231630964452828
           },
           {
            "mean": 0.6592090842325127,
            "x": 0.5837730002042637,
            "y": 0.5158482868255151
           },
           {
            "mean": 0.38854189281265683,
            "x": 0.7819578679106332,
            "y": 0.3447553917177184
           },
           {
            "mean": 0.7888808171460482,
            "x": 0.4594770754389732,
            "y": 0.8061637673043153
           },
           {
            "mean": 0.9836086254168863,
            "x": 0.1280288037244499,
            "y": 1.0382832667820447
           },
           {
            "mean": 0.8550020920816126,
            "x": 0.3807859082455486,
            "y": 0.9855635789486856
           },
           {
            "mean": 0.9277618498080746,
            "x": 0.2687715576319887,
            "y": 0.9674674432267181
           },
           {
            "mean": 0.932089445356609,
            "x": 0.2605965361308378,
            "y": 1.0320738647275554
           },
           {
            "mean": 0.4640928646848913,
            "x": 0.7320567842149328,
            "y": 0.5711119617766168
           },
           {
            "mean": 0.788921641650967,
            "x": 0.45943264832729613,
            "y": 0.7692796209609141
           },
           {
            "mean": 0.9895963848484419,
            "x": 0.10199811347058363,
            "y": 0.9526742719610373
           },
           {
            "mean": 0.2916119553571088,
            "x": 0.8416579142638007,
            "y": 0.22660676641906002
           },
           {
            "mean": 0.48116822594791786,
            "x": 0.7202997806830723,
            "y": 0.4986436615498033
           },
           {
            "mean": 0.4016643614007843,
            "x": 0.7735215825038211,
            "y": 0.44729574677702144
           },
           {
            "mean": 0.9370287397068487,
            "x": 0.25094075056305865,
            "y": 1.0211011860586823
           },
           {
            "mean": 0.2569850424308481,
            "x": 0.8619831538778191,
            "y": 0.38832129302877505
           },
           {
            "mean": 0.7633664367444307,
            "x": 0.4864499596624192,
            "y": 0.779106987799461
           },
           {
            "mean": 0.8824648867271038,
            "x": 0.3428339441667003,
            "y": 0.9070288646868852
           },
           {
            "mean": 0.9946545254847478,
            "x": 0.07311275207002044,
            "y": 1.0842773980222815
           },
           {
            "mean": 0.8804344365170156,
            "x": 0.34578253785144264,
            "y": 0.8765875539164566
           },
           {
            "mean": 0.9996912196170598,
            "x": 0.017572147931890325,
            "y": 0.9325738361434563
           },
           {
            "mean": 0.5336365385060442,
            "x": 0.6829080915423069,
            "y": 0.4823667317403646
           },
           {
            "mean": 0.9310520261179092,
            "x": 0.2625794620340496,
            "y": 0.9167062457952002
           },
           {
            "mean": 0.8483178008589642,
            "x": 0.38946398953052863,
            "y": 0.8620954835188918
           },
           {
            "mean": 0.9745882963674379,
            "x": 0.1594104878374133,
            "y": 0.9745785772447529
           },
           {
            "mean": 0.8856982786179586,
            "x": 0.33808537587722043,
            "y": 0.7567568085620332
           },
           {
            "mean": 0.2487163635430114,
            "x": 0.8667661948051438,
            "y": 0.19959010688956172
           },
           {
            "mean": 0.9360474984720873,
            "x": 0.2528883182907282,
            "y": 0.9127629459725466
           },
           {
            "mean": 0.9064595628984159,
            "x": 0.30584381161237195,
            "y": 0.8715162266449943
           },
           {
            "mean": 0.22533293390897502,
            "x": 0.880151729016665,
            "y": 0.23448823338765437
           },
           {
            "mean": 0.8445761210100211,
            "x": 0.3942383530175355,
            "y": 1.055558078540508
           },
           {
            "mean": 0.9993522081827995,
            "x": 0.025451754697869755,
            "y": 1.2071326970931968
           },
           {
            "mean": 0.9711259061470006,
            "x": 0.16992378836701905,
            "y": 0.8925507799290543
           },
           {
            "mean": 0.6704882465296361,
            "x": 0.5740311432930829,
            "y": 0.47452497381991104
           },
           {
            "mean": 0.42488026802054346,
            "x": 0.7583664892250029,
            "y": 0.43255813680055055
           },
           {
            "mean": 0.916274853379048,
            "x": 0.28935297928473447,
            "y": 0.8364848406726547
           },
           {
            "mean": 0.8486386128963868,
            "x": 0.38905190798094447,
            "y": 0.8081357233183043
           },
           {
            "mean": 0.38477920145816313,
            "x": 0.7843601204433056,
            "y": 0.310651334540401
           },
           {
            "mean": 0.7897057752558236,
            "x": 0.4585784826441123,
            "y": 0.7391346009523632
           },
           {
            "mean": 0.8932897405205797,
            "x": 0.3266653631461717,
            "y": 0.8849294970131796
           },
           {
            "mean": 0.9358025785388923,
            "x": 0.25337210079467654,
            "y": 1.1499427854879891
           },
           {
            "mean": 0.909728282115275,
            "x": 0.300452521847837,
            "y": 0.8020675698610036
           },
           {
            "mean": 0.9988812171248156,
            "x": 0.03344821183836899,
            "y": 0.965360149600277
           },
           {
            "mean": 0.9742829887664981,
            "x": 0.16036524322153456,
            "y": 0.9296676133732251
           },
           {
            "mean": 0.9957715239574861,
            "x": 0.0650267332911153,
            "y": 0.9720914481261254
           },
           {
            "mean": 0.36669558814066394,
            "x": 0.7958042547381461,
            "y": 0.46523633744326
           },
           {
            "mean": 0.18159267012906177,
            "x": 0.9046586814213072,
            "y": 0.03499307615330413
           },
           {
            "mean": 0.9568119391609827,
            "x": 0.20781737376604792,
            "y": 0.9682871641145715
           },
           {
            "mean": 0.3214858470673656,
            "x": 0.8237197053201012,
            "y": 0.3879147470647034
           },
           {
            "mean": 0.9587383770321214,
            "x": 0.20312957186948088,
            "y": 0.9499893093485253
           },
           {
            "mean": 0.5027058232971224,
            "x": 0.7051908796225868,
            "y": 0.4891067241035676
           },
           {
            "mean": 0.9839126006584875,
            "x": 0.12683611213496115,
            "y": 0.8716227625916255
           },
           {
            "mean": 0.780857835544815,
            "x": 0.46812622705332907,
            "y": 0.7059208006757652
           },
           {
            "mean": 0.20458135032109104,
            "x": 0.8918624611894532,
            "y": 0.35982920560647735
           },
           {
            "mean": 0.20150282928113816,
            "x": 0.8935866889781102,
            "y": 0.08512882933358129
           },
           {
            "mean": 0.9300641048802409,
            "x": 0.26445395652128,
            "y": 0.8661244094969149
           },
           {
            "mean": 0.24515031322805858,
            "x": 0.8688208600004614,
            "y": 0.07343055075461474
           },
           {
            "mean": 0.4307245980870825,
            "x": 0.754503414116144,
            "y": 0.5307022645347955
           },
           {
            "mean": 0.9853541381668339,
            "x": 0.12102008855213298,
            "y": 0.846142484438049
           },
           {
            "mean": 0.9473951758137926,
            "x": 0.22935741580818214,
            "y": 0.7936188704289959
           },
           {
            "mean": 0.31823470205040183,
            "x": 0.8256908004511121,
            "y": 0.3680821962625264
           },
           {
            "mean": 0.958485299663077,
            "x": 0.20375156523797044,
            "y": 0.8063053886610414
           },
           {
            "mean": 0.4915199591921998,
            "x": 0.7130778644775059,
            "y": 0.5915551721695808
           },
           {
            "mean": 0.38473108703097014,
            "x": 0.7843907909766852,
            "y": 0.49635644945626534
           },
           {
            "mean": 0.9798504427704945,
            "x": 0.14194913606466752,
            "y": 0.8029478366350625
           },
           {
            "mean": 0.3684944881705494,
            "x": 0.7946732107158581,
            "y": 0.21328059777260833
           },
           {
            "mean": 0.2706024686629286,
            "x": 0.8540477336408495,
            "y": 0.3193552052668188
           },
           {
            "mean": 0.2356013358806247,
            "x": 0.8742989558036629,
            "y": 0.21971052619053436
           },
           {
            "mean": 0.9954037427671008,
            "x": 0.06779570217129716,
            "y": 0.9687725888701719
           },
           {
            "mean": 0.18474970822802506,
            "x": 0.9029121174134142,
            "y": 0.17543861437803285
           },
           {
            "mean": 0.4393306318145358,
            "x": 0.7487785842193032,
            "y": 0.4688599302052894
           },
           {
            "mean": 0.26168896712773404,
            "x": 0.8592502737109055,
            "y": 0.2548683639133248
           },
           {
            "mean": 0.9430904541051824,
            "x": 0.2385572172348125,
            "y": 0.9464670784135919
           },
           {
            "mean": 0.9881721682711546,
            "x": 0.10875583537836186,
            "y": 1.0945875024424898
           },
           {
            "mean": 0.9996760622564452,
            "x": 0.017998270571218833,
            "y": 0.9975316487412976
           },
           {
            "mean": 0.914753360922579,
            "x": 0.2919702708794528,
            "y": 0.9459895310327499
           },
           {
            "mean": 0.752524947256767,
            "x": 0.4974686449850212,
            "y": 0.7459561682933222
           },
           {
            "mean": 0.20639827885198458,
            "x": 0.8908432640751208,
            "y": 0.13200903770012803
           },
           {
            "mean": 0.4890670696858542,
            "x": 0.7147957262841922,
            "y": 0.5228369292671113
           },
           {
            "mean": 0.42057296081435,
            "x": 0.7612010504365124,
            "y": 0.5249001818027941
           },
           {
            "mean": 0.9756004493358209,
            "x": 0.15620355522259766,
            "y": 0.9547455258002749
           },
           {
            "mean": 0.8550388379267164,
            "x": 0.3807376551817321,
            "y": 0.8815785891423717
           },
           {
            "mean": 0.2812923273371474,
            "x": 0.8477662842215729,
            "y": 0.3484085684116592
           },
           {
            "mean": 0.9890290960159205,
            "x": 0.10474208315705569,
            "y": 1.1517636168086738
           },
           {
            "mean": 0.5627490730324451,
            "x": 0.6612495194459916,
            "y": 0.662003589093878
           },
           {
            "mean": 0.14739304502778527,
            "x": 0.9233671831791591,
            "y": 0.03341477947919677
           },
           {
            "mean": 0.9535594350046773,
            "x": 0.2155007308463771,
            "y": 0.8233807393861459
           },
           {
            "mean": 0.012408611286876536,
            "x": 0.9937763273056586,
            "y": -0.05283764785025967
           },
           {
            "mean": 0.9998998981968085,
            "x": 0.010005088864750156,
            "y": 0.9510287388866084
           },
           {
            "mean": 0.08897417735561808,
            "x": 0.954476727136069,
            "y": 0.2540088303735515
           },
           {
            "mean": 0.33169720359871435,
            "x": 0.8174978877044794,
            "y": 0.25762607774554824
           },
           {
            "mean": 0.3126952572363061,
            "x": 0.8290384446837757,
            "y": 0.41613352389711816
           },
           {
            "mean": 0.6877901745707214,
            "x": 0.558757394071236,
            "y": 0.7281357809125049
           },
           {
            "mean": 0.8441247392344986,
            "x": 0.39481041116655147,
            "y": 0.8759220431922391
           },
           {
            "mean": 0.9255015472014189,
            "x": 0.2729440470107035,
            "y": 0.8319285980420547
           },
           {
            "mean": 0.9967445488583179,
            "x": 0.05705656089953348,
            "y": 1.009818374951756
           },
           {
            "mean": 0.9924171176216017,
            "x": 0.08707974723434997,
            "y": 0.9676148429135338
           },
           {
            "mean": 0.9357577451446584,
            "x": 0.2534605587765907,
            "y": 1.0205259062039873
           },
           {
            "mean": 0.9786972040843905,
            "x": 0.1459547735279989,
            "y": 0.8445981822243708
           },
           {
            "mean": 0.7888506589964775,
            "x": 0.4595098921715641,
            "y": 0.879894923462186
           },
           {
            "mean": 0.4646044252366788,
            "x": 0.7317073012915214,
            "y": 0.28090371451311047
           },
           {
            "mean": 0.5183688835896882,
            "x": 0.6939964815547063,
            "y": 0.42726956877047734
           },
           {
            "mean": 0.37426794312379086,
            "x": 0.7910322729675504,
            "y": 0.2330787306530854
           },
           {
            "mean": 0.998799251958548,
            "x": 0.034651811517609654,
            "y": 1.061155283765768
           },
           {
            "mean": 0.8796949688408822,
            "x": 0.34685015663700924,
            "y": 0.8509347889967238
           },
           {
            "mean": 0.35956227471640156,
            "x": 0.8002735315400594,
            "y": 0.2939621387935344
           },
           {
            "mean": 0.8850468181727007,
            "x": 0.3390474624994254,
            "y": 0.7786017153882158
           },
           {
            "mean": 0.9656764785682002,
            "x": 0.1852660827885123,
            "y": 1.0737695232426279
           },
           {
            "mean": 0.8695664728590456,
            "x": 0.36115582113674194,
            "y": 0.6937482110178503
           },
           {
            "mean": 0.9463284825786773,
            "x": 0.2316711406742814,
            "y": 0.9655250367120877
           },
           {
            "mean": 0.9993676088700756,
            "x": 0.025147388133251125,
            "y": 0.9466787059160529
           },
           {
            "mean": 0.5216198076890012,
            "x": 0.6916503396305093,
            "y": 0.5331761558520874
           },
           {
            "mean": 0.09285500796078194,
            "x": 0.9524415950803587,
            "y": 0.07122655240502739
           },
           {
            "mean": 0.170284345864399,
            "x": 0.9108872894796595,
            "y": 0.0005027164650597271
           },
           {
            "mean": 0.6916818537157501,
            "x": 0.5552640329467144,
            "y": 0.6921892990528405
           },
           {
            "mean": 0.11814144241041558,
            "x": 0.9390732439962202,
            "y": 0.043329162386485806
           },
           {
            "mean": 0.6292988328549741,
            "x": 0.608852336075855,
            "y": 0.5646492749442326
           },
           {
            "mean": 0.43629357538956104,
            "x": 0.7508038522879588,
            "y": 0.3797571792706737
           },
           {
            "mean": 0.5043408606885885,
            "x": 0.7040306380488078,
            "y": 0.43017308631674733
           },
           {
            "mean": 0.6107001640253791,
            "x": 0.6239389681488254,
            "y": 0.6985036510456492
           },
           {
            "mean": 0.3239276491593971,
            "x": 0.8222361892063635,
            "y": 0.4026051431290626
           },
           {
            "mean": 0.9615473033667495,
            "x": 0.19609359151499695,
            "y": 1.1182689687352498
           },
           {
            "mean": 0.46221493263903546,
            "x": 0.7333383034868454,
            "y": 0.3179751697607478
           },
           {
            "mean": 0.33980806494243887,
            "x": 0.8125219597386653,
            "y": 0.5008893374420689
           },
           {
            "mean": 0.7245122762699503,
            "x": 0.5248692444124057,
            "y": 0.7283806487108542
           },
           {
            "mean": 0.19073346990191165,
            "x": 0.89959242443347,
            "y": 0.010243127901123694
           },
           {
            "mean": 0.38172948257940376,
            "x": 0.7863017979253235,
            "y": 0.33247049287851016
           },
           {
            "mean": 0.626657836847762,
            "x": 0.6110173182097526,
            "y": 0.6569519556783536
           },
           {
            "mean": 0.0822773545106662,
            "x": 0.9579784159830188,
            "y": -0.002664804455353928
           },
           {
            "mean": 0.9446260421366297,
            "x": 0.23531671819777333,
            "y": 0.7953849685229684
           },
           {
            "mean": 0.9799917654555833,
            "x": 0.14145046675220496,
            "y": 0.9985689363246744
           },
           {
            "mean": 0.9217392208834357,
            "x": 0.27975128081308986,
            "y": 0.9848809391313545
           },
           {
            "mean": 0.7494118251671358,
            "x": 0.5005878292895906,
            "y": 0.9056880160618993
           },
           {
            "mean": 0.6479761051159079,
            "x": 0.5933160160353773,
            "y": 0.5789816528527828
           },
           {
            "mean": 0.9159015871770679,
            "x": 0.2899972634749026,
            "y": 0.8740586369768183
           },
           {
            "mean": 0.9255976166260201,
            "x": 0.2727680028412054,
            "y": 0.6678937248407473
           },
           {
            "mean": 0.8111423924604414,
            "x": 0.43457750464049405,
            "y": 0.8308280101225601
           },
           {
            "mean": 0.9985731425926528,
            "x": 0.037773766126072195,
            "y": 1.0051560646128903
           },
           {
            "mean": 0.7390760649140478,
            "x": 0.510807140793815,
            "y": 0.5362482829836606
           },
           {
            "mean": 0.6362110668654503,
            "x": 0.6031491798341019,
            "y": 0.44406487161093444
           },
           {
            "mean": 0.3647727944685111,
            "x": 0.7970114212051725,
            "y": 0.46540573326766754
           },
           {
            "mean": 0.16925911181147413,
            "x": 0.911449882433766,
            "y": 0.08814660565857096
           },
           {
            "mean": 0.9341984962530367,
            "x": 0.2565180378588673,
            "y": 0.8663756191143767
           },
           {
            "mean": 0.9494123907621596,
            "x": 0.22491689406943283,
            "y": 0.84291363922152
           },
           {
            "mean": 0.4041090224430285,
            "x": 0.7719397499526576,
            "y": 0.46420592652996173
           },
           {
            "mean": 0.12051865085205016,
            "x": 0.9378066693876461,
            "y": 0.018367898056347032
           },
           {
            "mean": 0.9562722765264746,
            "x": 0.20911174876970773,
            "y": 1.01041906839869
           },
           {
            "mean": 0.5819668390723389,
            "x": 0.6465548398455162,
            "y": 0.6620273109323557
           },
           {
            "mean": 0.9301402310909099,
            "x": 0.26430998639682557,
            "y": 0.8251355309464959
           },
           {
            "mean": 0.9218094705369198,
            "x": 0.27962569528403547,
            "y": 1.0929568451613205
           },
           {
            "mean": 0.15996016297298243,
            "x": 0.9165368716134761,
            "y": 0.20627679612441704
           },
           {
            "mean": 0.8273178117071218,
            "x": 0.41555046419523844,
            "y": 0.8271256195904062
           },
           {
            "mean": 0.7017036552553375,
            "x": 0.5461651258956969,
            "y": 0.8745843227470189
           },
           {
            "mean": 0.04121018636954077,
            "x": 0.9791781317158075,
            "y": 0.06577899918090799
           },
           {
            "mean": 0.9009366182655811,
            "x": 0.31474335852312896,
            "y": 0.9003689934388756
           },
           {
            "mean": 0.31904233964643525,
            "x": 0.8252015877066432,
            "y": 0.3319140500814952
           },
           {
            "mean": 0.8565797507559885,
            "x": 0.3787086601122446,
            "y": 0.8710550326887475
           },
           {
            "mean": 0.48609680950848,
            "x": 0.716870414016034,
            "y": 0.4748235589057481
           },
           {
            "mean": 0.9958599192200365,
            "x": 0.06434345949638998,
            "y": 0.8888032134496819
           },
           {
            "mean": 0.9927416002179713,
            "x": 0.08519624276943616,
            "y": 0.9312663395520331
           },
           {
            "mean": 0.831489382540793,
            "x": 0.4105004475749169,
            "y": 0.607912426182659
           },
           {
            "mean": 0.9127000753074191,
            "x": 0.2954656066153569,
            "y": 1.1583204172712669
           },
           {
            "mean": 0.9668370719556063,
            "x": 0.18210691377428168,
            "y": 0.9257453546134518
           }
          ]
         },
         "encoding": {
          "opacity": {
           "value": 0.25
          },
          "x": {
           "field": "x",
           "type": "quantitative"
          },
          "y": {
           "field": "y",
           "type": "quantitative"
          }
         },
         "height": 300,
         "mark": {
          "color": "black",
          "size": 75,
          "type": "circle"
         },
         "width": 800
        },
        {
         "data": {
          "values": [
           {
            "mean": 0.6690572751701303,
            "x": 0.5752762161169795,
            "y": 0.5651416166297898
           },
           {
            "mean": 0.9019355951232413,
            "x": 0.31315236687075954,
            "y": 0.8778807331608367
           },
           {
            "mean": 0.9880522219144652,
            "x": 0.10930589227271692,
            "y": 0.9480938917434333
           },
           {
            "mean": 0.222204729649627,
            "x": 0.8819270209889098,
            "y": 0.35816892614098617
           },
           {
            "mean": 0.7107607422931151,
            "x": 0.5378096853970602,
            "y": 0.7605697781151755
           },
           {
            "mean": 0.9787737950786861,
            "x": 0.14569215806389146,
            "y": 0.9312444061040414
           },
           {
            "mean": 0.7747883420270191,
            "x": 0.47456470367377823,
            "y": 0.785168116794383
           },
           {
            "mean": 0.275546388052042,
            "x": 0.8511484077104051,
            "y": 0.2144374911932714
           },
           {
            "mean": 0.6319921369773795,
            "x": 0.6066365163939774,
            "y": 0.42251052009342627
           },
           {
            "mean": 0.9465873404334679,
            "x": 0.23111179019368988,
            "y": 1.000372377378147
           },
           {
            "mean": 0.892605115551654,
            "x": 0.32771158729643046,
            "y": 0.9341531993771518
           },
           {
            "mean": 0.194727848493228,
            "x": 0.8973695735352141,
            "y": 0.3972140130556081
           },
           {
            "mean": 0.35856454325474285,
            "x": 0.8008966579685903,
            "y": 0.5553124825685476
           },
           {
            "mean": 0.9997319914937479,
            "x": 0.01637096534270721,
            "y": 0.9526481950259206
           },
           {
            "mean": 0.10966052542560423,
            "x": 0.9435780172165923,
            "y": 0.21599328383332952
           },
           {
            "mean": 0.8182287271844502,
            "x": 0.4263464234815977,
            "y": 0.6336234989024633
           },
           {
            "mean": 0.7231167545396562,
            "x": 0.5261969645107656,
            "y": 0.544077107569613
           },
           {
            "mean": 0.6154582101699666,
            "x": 0.6201143360945894,
            "y": 0.8013286438436066
           },
           {
            "mean": 0.391992184521033,
            "x": 0.7797485591387566,
            "y": 0.4487789009000404
           },
           {
            "mean": 0.9749965171094865,
            "x": 0.15812489649170847,
            "y": 0.8242732226966496
           },
           {
            "mean": 0.989451854260997,
            "x": 0.10270416612291322,
            "y": 1.162502671447461
           },
           {
            "mean": 0.8715021911530003,
            "x": 0.35846591029971,
            "y": 0.7892120901476528
           },
           {
            "mean": 0.840447007411918,
            "x": 0.39944084992409323,
            "y": 0.8605190473401532
           },
           {
            "mean": 0.9960427869423852,
            "x": 0.06290638328194342,
            "y": 0.9277413872566563
           },
           {
            "mean": 0.9038210046468376,
            "x": 0.310127385687176,
            "y": 0.9181769604382956
           },
           {
            "mean": 0.8927947640805067,
            "x": 0.3274221066444556,
            "y": 0.8355495404103563
           },
           {
            "mean": 0.12213774858773363,
            "x": 0.9369430353080525,
            "y": 0.16802850141934236
           },
           {
            "mean": 0.6401590393152923,
            "x": 0.599867452596578,
            "y": 0.5416098102486318
           },
           {
            "mean": 0.6038561273578104,
            "x": 0.6293996128392435,
            "y": 0.4425738705437041
           },
           {
            "mean": 0.9526683428860021,
            "x": 0.2175583993184309,
            "y": 0.8393922998301893
           },
           {
            "mean": 0.7016656405979254,
            "x": 0.546199926219397,
            "y": 0.8227369330165751
           },
           {
            "mean": 0.16933651522884074,
            "x": 0.9114074197476995,
            "y": -0.026064764513791056
           },
           {
            "mean": 0.9929126579279497,
            "x": 0.0841863532411894,
            "y": 0.8212913891042625
           },
           {
            "mean": 0.9997802944555951,
            "x": 0.014822467554521324,
            "y": 1.0381118375907041
           },
           {
            "mean": 0.48927458922908096,
            "x": 0.7146505515081613,
            "y": 0.43005042896350976
           },
           {
            "mean": 0.9999997537941813,
            "x": 0.0004961913126649842,
            "y": 0.970141726658922
           },
           {
            "mean": 0.8132577709397231,
            "x": 0.43213681752458555,
            "y": 0.6217713577855193
           },
           {
            "mean": 0.9670390023441828,
            "x": 0.18155163908876482,
            "y": 1.0565365030382348
           },
           {
            "mean": 0.9075713290709944,
            "x": 0.30402083962946636,
            "y": 0.8746508311528132
           },
           {
            "mean": 0.9513497119212256,
            "x": 0.2205681030402501,
            "y": 0.918126448010103
           },
           {
            "mean": 0.6777077862145893,
            "x": 0.5677078595416931,
            "y": 0.6623690297216142
           },
           {
            "mean": 0.6825648683216048,
            "x": 0.563413819211417,
            "y": 0.6003510981905056
           },
           {
            "mean": 0.69588111727465,
            "x": 0.5514697477879907,
            "y": 0.874698225416767
           },
           {
            "mean": 0.3330551838775133,
            "x": 0.81666689422462,
            "y": 0.4760021301324404
           },
           {
            "mean": 0.35145190675626525,
            "x": 0.8053248370960222,
            "y": 0.24015162689586333
           },
           {
            "mean": 0.4943639161955824,
            "x": 0.7110809263399052,
            "y": 0.4722619792210807
           },
           {
            "mean": 0.986577816646876,
            "x": 0.11585414689653506,
            "y": 1.0783249888797772
           },
           {
            "mean": 0.9883660474190668,
            "x": 0.10786080187414337,
            "y": 1.2469718241405443
           },
           {
            "mean": 0.8774851140374961,
            "x": 0.35002126501471864,
            "y": 0.7484541535426844
           },
           {
            "mean": 0.660712210846482,
            "x": 0.5824841535642992,
            "y": 0.6276372000450373
           },
           {
            "mean": 0.995048351261134,
            "x": 0.07036795249874794,
            "y": 1.0892975798277127
           },
           {
            "mean": 0.7392064025035818,
            "x": 0.5106795448188798,
            "y": 0.8068579583785127
           },
           {
            "mean": 0.9864688352069217,
            "x": 0.11632353499218595,
            "y": 0.9279829756160543
           },
           {
            "mean": 0.06749196792094447,
            "x": 0.9656645546353327,
            "y": 0.1442520868149601
           },
           {
            "mean": 0.650488899946702,
            "x": 0.591194638045118,
            "y": 0.6637257676285365
           },
           {
            "mean": 0.6369497729880071,
            "x": 0.6025364943403784,
            "y": 0.4703548440077687
           },
           {
            "mean": 0.0981130554120292,
            "x": 0.949677284443495,
            "y": 0.30883521151404414
           },
           {
            "mean": 0.9251795431807355,
            "x": 0.2735332828364119,
            "y": 0.8826079788692491
           },
           {
            "mean": 0.775666004130281,
            "x": 0.4736390987552854,
            "y": 0.9668692675984157
           },
           {
            "mean": 0.9609979671261246,
            "x": 0.1974893234427506,
            "y": 0.9098064752562263
           },
           {
            "mean": 0.32833889218759893,
            "x": 0.8195493321407815,
            "y": 0.3303970580116556
           },
           {
            "mean": 0.9996717268933945,
            "x": 0.018118308602227517,
            "y": 0.9860238802777367
           },
           {
            "mean": 0.13788612274327472,
            "x": 0.9285008762821526,
            "y": 0.12693557880113637
           },
           {
            "mean": 0.959855097001172,
            "x": 0.20036193001373293,
            "y": 0.9253689400820831
           },
           {
            "mean": 0.7199463160491717,
            "x": 0.52920098634718,
            "y": 0.6615696324522111
           },
           {
            "mean": 0.9952149807920446,
            "x": 0.0691738332605285,
            "y": 1.1155064438249969
           },
           {
            "mean": 0.7693984434410763,
            "x": 0.4802099088512478,
            "y": 0.7579406418519831
           },
           {
            "mean": 0.14048635160646528,
            "x": 0.9270995892532445,
            "y": -0.018414487529809148
           },
           {
            "mean": 0.91331202602201,
            "x": 0.29442821532249597,
            "y": 0.9083507627253307
           },
           {
            "mean": 0.11332792095370026,
            "x": 0.941632666726415,
            "y": 0.11027470540980203
           },
           {
            "mean": 0.9615363141758024,
            "x": 0.19612160978382165,
            "y": 0.8195431163897269
           },
           {
            "mean": 0.7201074713250317,
            "x": 0.5290487016097557,
            "y": 0.7214945186419298
           },
           {
            "mean": 0.8490568650285987,
            "x": 0.38851400871963593,
            "y": 0.7824978192543859
           },
           {
            "mean": 0.6515020770182537,
            "x": 0.590337126548675,
            "y": 0.7057879905662413
           },
           {
            "mean": 0.488019488107037,
            "x": 0.715528134941571,
            "y": 0.522966637741326
           },
           {
            "mean": 0.7044653963469891,
            "x": 0.5436309443482875,
            "y": 0.7094848577116146
           },
           {
            "mean": 0.8026006385493807,
            "x": 0.44429647922374904,
            "y": 0.8678825980780135
           },
           {
            "mean": 0.45640854580119716,
            "x": 0.7372865482285723,
            "y": 0.5578038691674627
           },
           {
            "mean": 0.9383581109833078,
            "x": 0.24827784640739126,
            "y": 0.7744830227448123
           },
           {
            "mean": 0.9997231197262302,
            "x": 0.01663971976235734,
            "y": 1.1320432617882323
           },
           {
            "mean": 0.5526846897665945,
            "x": 0.6688163501540655,
            "y": 0.47268804869179937
           },
           {
            "mean": 0.814301319421636,
            "x": 0.4309276976226569,
            "y": 0.8253703371262753
           },
           {
            "mean": 0.4554948520741645,
            "x": 0.7379059207824772,
            "y": 0.551119795146728
           },
           {
            "mean": 0.3773077122758488,
            "x": 0.7891085398879872,
            "y": 0.39908643772125546
           },
           {
            "mean": 0.8419709703478874,
            "x": 0.39752865261778636,
            "y": 0.6869789870660532
           },
           {
            "mean": 0.9272620494905579,
            "x": 0.2696997413966913,
            "y": 0.8733825463240585
           },
           {
            "mean": 0.42493496822994725,
            "x": 0.7583304238721091,
            "y": 0.3173162338327619
           },
           {
            "mean": 0.9937066895939132,
            "x": 0.07933038765874523,
            "y": 1.1231630964452828
           },
           {
            "mean": 0.6592090842325127,
            "x": 0.5837730002042637,
            "y": 0.5158482868255151
           },
           {
            "mean": 0.38854189281265683,
            "x": 0.7819578679106332,
            "y": 0.3447553917177184
           },
           {
            "mean": 0.7888808171460482,
            "x": 0.4594770754389732,
            "y": 0.8061637673043153
           },
           {
            "mean": 0.9836086254168863,
            "x": 0.1280288037244499,
            "y": 1.0382832667820447
           },
           {
            "mean": 0.8550020920816126,
            "x": 0.3807859082455486,
            "y": 0.9855635789486856
           },
           {
            "mean": 0.9277618498080746,
            "x": 0.2687715576319887,
            "y": 0.9674674432267181
           },
           {
            "mean": 0.932089445356609,
            "x": 0.2605965361308378,
            "y": 1.0320738647275554
           },
           {
            "mean": 0.4640928646848913,
            "x": 0.7320567842149328,
            "y": 0.5711119617766168
           },
           {
            "mean": 0.788921641650967,
            "x": 0.45943264832729613,
            "y": 0.7692796209609141
           },
           {
            "mean": 0.9895963848484419,
            "x": 0.10199811347058363,
            "y": 0.9526742719610373
           },
           {
            "mean": 0.2916119553571088,
            "x": 0.8416579142638007,
            "y": 0.22660676641906002
           },
           {
            "mean": 0.48116822594791786,
            "x": 0.7202997806830723,
            "y": 0.4986436615498033
           },
           {
            "mean": 0.4016643614007843,
            "x": 0.7735215825038211,
            "y": 0.44729574677702144
           },
           {
            "mean": 0.9370287397068487,
            "x": 0.25094075056305865,
            "y": 1.0211011860586823
           },
           {
            "mean": 0.2569850424308481,
            "x": 0.8619831538778191,
            "y": 0.38832129302877505
           },
           {
            "mean": 0.7633664367444307,
            "x": 0.4864499596624192,
            "y": 0.779106987799461
           },
           {
            "mean": 0.8824648867271038,
            "x": 0.3428339441667003,
            "y": 0.9070288646868852
           },
           {
            "mean": 0.9946545254847478,
            "x": 0.07311275207002044,
            "y": 1.0842773980222815
           },
           {
            "mean": 0.8804344365170156,
            "x": 0.34578253785144264,
            "y": 0.8765875539164566
           },
           {
            "mean": 0.9996912196170598,
            "x": 0.017572147931890325,
            "y": 0.9325738361434563
           },
           {
            "mean": 0.5336365385060442,
            "x": 0.6829080915423069,
            "y": 0.4823667317403646
           },
           {
            "mean": 0.9310520261179092,
            "x": 0.2625794620340496,
            "y": 0.9167062457952002
           },
           {
            "mean": 0.8483178008589642,
            "x": 0.38946398953052863,
            "y": 0.8620954835188918
           },
           {
            "mean": 0.9745882963674379,
            "x": 0.1594104878374133,
            "y": 0.9745785772447529
           },
           {
            "mean": 0.8856982786179586,
            "x": 0.33808537587722043,
            "y": 0.7567568085620332
           },
           {
            "mean": 0.2487163635430114,
            "x": 0.8667661948051438,
            "y": 0.19959010688956172
           },
           {
            "mean": 0.9360474984720873,
            "x": 0.2528883182907282,
            "y": 0.9127629459725466
           },
           {
            "mean": 0.9064595628984159,
            "x": 0.30584381161237195,
            "y": 0.8715162266449943
           },
           {
            "mean": 0.22533293390897502,
            "x": 0.880151729016665,
            "y": 0.23448823338765437
           },
           {
            "mean": 0.8445761210100211,
            "x": 0.3942383530175355,
            "y": 1.055558078540508
           },
           {
            "mean": 0.9993522081827995,
            "x": 0.025451754697869755,
            "y": 1.2071326970931968
           },
           {
            "mean": 0.9711259061470006,
            "x": 0.16992378836701905,
            "y": 0.8925507799290543
           },
           {
            "mean": 0.6704882465296361,
            "x": 0.5740311432930829,
            "y": 0.47452497381991104
           },
           {
            "mean": 0.42488026802054346,
            "x": 0.7583664892250029,
            "y": 0.43255813680055055
           },
           {
            "mean": 0.916274853379048,
            "x": 0.28935297928473447,
            "y": 0.8364848406726547
           },
           {
            "mean": 0.8486386128963868,
            "x": 0.38905190798094447,
            "y": 0.8081357233183043
           },
           {
            "mean": 0.38477920145816313,
            "x": 0.7843601204433056,
            "y": 0.310651334540401
           },
           {
            "mean": 0.7897057752558236,
            "x": 0.4585784826441123,
            "y": 0.7391346009523632
           },
           {
            "mean": 0.8932897405205797,
            "x": 0.3266653631461717,
            "y": 0.8849294970131796
           },
           {
            "mean": 0.9358025785388923,
            "x": 0.25337210079467654,
            "y": 1.1499427854879891
           },
           {
            "mean": 0.909728282115275,
            "x": 0.300452521847837,
            "y": 0.8020675698610036
           },
           {
            "mean": 0.9988812171248156,
            "x": 0.03344821183836899,
            "y": 0.965360149600277
           },
           {
            "mean": 0.9742829887664981,
            "x": 0.16036524322153456,
            "y": 0.9296676133732251
           },
           {
            "mean": 0.9957715239574861,
            "x": 0.0650267332911153,
            "y": 0.9720914481261254
           },
           {
            "mean": 0.36669558814066394,
            "x": 0.7958042547381461,
            "y": 0.46523633744326
           },
           {
            "mean": 0.18159267012906177,
            "x": 0.9046586814213072,
            "y": 0.03499307615330413
           },
           {
            "mean": 0.9568119391609827,
            "x": 0.20781737376604792,
            "y": 0.9682871641145715
           },
           {
            "mean": 0.3214858470673656,
            "x": 0.8237197053201012,
            "y": 0.3879147470647034
           },
           {
            "mean": 0.9587383770321214,
            "x": 0.20312957186948088,
            "y": 0.9499893093485253
           },
           {
            "mean": 0.5027058232971224,
            "x": 0.7051908796225868,
            "y": 0.4891067241035676
           },
           {
            "mean": 0.9839126006584875,
            "x": 0.12683611213496115,
            "y": 0.8716227625916255
           },
           {
            "mean": 0.780857835544815,
            "x": 0.46812622705332907,
            "y": 0.7059208006757652
           },
           {
            "mean": 0.20458135032109104,
            "x": 0.8918624611894532,
            "y": 0.35982920560647735
           },
           {
            "mean": 0.20150282928113816,
            "x": 0.8935866889781102,
            "y": 0.08512882933358129
           },
           {
            "mean": 0.9300641048802409,
            "x": 0.26445395652128,
            "y": 0.8661244094969149
           },
           {
            "mean": 0.24515031322805858,
            "x": 0.8688208600004614,
            "y": 0.07343055075461474
           },
           {
            "mean": 0.4307245980870825,
            "x": 0.754503414116144,
            "y": 0.5307022645347955
           },
           {
            "mean": 0.9853541381668339,
            "x": 0.12102008855213298,
            "y": 0.846142484438049
           },
           {
            "mean": 0.9473951758137926,
            "x": 0.22935741580818214,
            "y": 0.7936188704289959
           },
           {
            "mean": 0.31823470205040183,
            "x": 0.8256908004511121,
            "y": 0.3680821962625264
           },
           {
            "mean": 0.958485299663077,
            "x": 0.20375156523797044,
            "y": 0.8063053886610414
           },
           {
            "mean": 0.4915199591921998,
            "x": 0.7130778644775059,
            "y": 0.5915551721695808
           },
           {
            "mean": 0.38473108703097014,
            "x": 0.7843907909766852,
            "y": 0.49635644945626534
           },
           {
            "mean": 0.9798504427704945,
            "x": 0.14194913606466752,
            "y": 0.8029478366350625
           },
           {
            "mean": 0.3684944881705494,
            "x": 0.7946732107158581,
            "y": 0.21328059777260833
           },
           {
            "mean": 0.2706024686629286,
            "x": 0.8540477336408495,
            "y": 0.3193552052668188
           },
           {
            "mean": 0.2356013358806247,
            "x": 0.8742989558036629,
            "y": 0.21971052619053436
           },
           {
            "mean": 0.9954037427671008,
            "x": 0.06779570217129716,
            "y": 0.9687725888701719
           },
           {
            "mean": 0.18474970822802506,
            "x": 0.9029121174134142,
            "y": 0.17543861437803285
           },
           {
            "mean": 0.4393306318145358,
            "x": 0.7487785842193032,
            "y": 0.4688599302052894
           },
           {
            "mean": 0.26168896712773404,
            "x": 0.8592502737109055,
            "y": 0.2548683639133248
           },
           {
            "mean": 0.9430904541051824,
            "x": 0.2385572172348125,
            "y": 0.9464670784135919
           },
           {
            "mean": 0.9881721682711546,
            "x": 0.10875583537836186,
            "y": 1.0945875024424898
           },
           {
            "mean": 0.9996760622564452,
            "x": 0.017998270571218833,
            "y": 0.9975316487412976
           },
           {
            "mean": 0.914753360922579,
            "x": 0.2919702708794528,
            "y": 0.9459895310327499
           },
           {
            "mean": 0.752524947256767,
            "x": 0.4974686449850212,
            "y": 0.7459561682933222
           },
           {
            "mean": 0.20639827885198458,
            "x": 0.8908432640751208,
            "y": 0.13200903770012803
           },
           {
            "mean": 0.4890670696858542,
            "x": 0.7147957262841922,
            "y": 0.5228369292671113
           },
           {
            "mean": 0.42057296081435,
            "x": 0.7612010504365124,
            "y": 0.5249001818027941
           },
           {
            "mean": 0.9756004493358209,
            "x": 0.15620355522259766,
            "y": 0.9547455258002749
           },
           {
            "mean": 0.8550388379267164,
            "x": 0.3807376551817321,
            "y": 0.8815785891423717
           },
           {
            "mean": 0.2812923273371474,
            "x": 0.8477662842215729,
            "y": 0.3484085684116592
           },
           {
            "mean": 0.9890290960159205,
            "x": 0.10474208315705569,
            "y": 1.1517636168086738
           },
           {
            "mean": 0.5627490730324451,
            "x": 0.6612495194459916,
            "y": 0.662003589093878
           },
           {
            "mean": 0.14739304502778527,
            "x": 0.9233671831791591,
            "y": 0.03341477947919677
           },
           {
            "mean": 0.9535594350046773,
            "x": 0.2155007308463771,
            "y": 0.8233807393861459
           },
           {
            "mean": 0.012408611286876536,
            "x": 0.9937763273056586,
            "y": -0.05283764785025967
           },
           {
            "mean": 0.9998998981968085,
            "x": 0.010005088864750156,
            "y": 0.9510287388866084
           },
           {
            "mean": 0.08897417735561808,
            "x": 0.954476727136069,
            "y": 0.2540088303735515
           },
           {
            "mean": 0.33169720359871435,
            "x": 0.8174978877044794,
            "y": 0.25762607774554824
           },
           {
            "mean": 0.3126952572363061,
            "x": 0.8290384446837757,
            "y": 0.41613352389711816
           },
           {
            "mean": 0.6877901745707214,
            "x": 0.558757394071236,
            "y": 0.7281357809125049
           },
           {
            "mean": 0.8441247392344986,
            "x": 0.39481041116655147,
            "y": 0.8759220431922391
           },
           {
            "mean": 0.9255015472014189,
            "x": 0.2729440470107035,
            "y": 0.8319285980420547
           },
           {
            "mean": 0.9967445488583179,
            "x": 0.05705656089953348,
            "y": 1.009818374951756
           },
           {
            "mean": 0.9924171176216017,
            "x": 0.08707974723434997,
            "y": 0.9676148429135338
           },
           {
            "mean": 0.9357577451446584,
            "x": 0.2534605587765907,
            "y": 1.0205259062039873
           },
           {
            "mean": 0.9786972040843905,
            "x": 0.1459547735279989,
            "y": 0.8445981822243708
           },
           {
            "mean": 0.7888506589964775,
            "x": 0.4595098921715641,
            "y": 0.879894923462186
           },
           {
            "mean": 0.4646044252366788,
            "x": 0.7317073012915214,
            "y": 0.28090371451311047
           },
           {
            "mean": 0.5183688835896882,
            "x": 0.6939964815547063,
            "y": 0.42726956877047734
           },
           {
            "mean": 0.37426794312379086,
            "x": 0.7910322729675504,
            "y": 0.2330787306530854
           },
           {
            "mean": 0.998799251958548,
            "x": 0.034651811517609654,
            "y": 1.061155283765768
           },
           {
            "mean": 0.8796949688408822,
            "x": 0.34685015663700924,
            "y": 0.8509347889967238
           },
           {
            "mean": 0.35956227471640156,
            "x": 0.8002735315400594,
            "y": 0.2939621387935344
           },
           {
            "mean": 0.8850468181727007,
            "x": 0.3390474624994254,
            "y": 0.7786017153882158
           },
           {
            "mean": 0.9656764785682002,
            "x": 0.1852660827885123,
            "y": 1.0737695232426279
           },
           {
            "mean": 0.8695664728590456,
            "x": 0.36115582113674194,
            "y": 0.6937482110178503
           },
           {
            "mean": 0.9463284825786773,
            "x": 0.2316711406742814,
            "y": 0.9655250367120877
           },
           {
            "mean": 0.9993676088700756,
            "x": 0.025147388133251125,
            "y": 0.9466787059160529
           },
           {
            "mean": 0.5216198076890012,
            "x": 0.6916503396305093,
            "y": 0.5331761558520874
           },
           {
            "mean": 0.09285500796078194,
            "x": 0.9524415950803587,
            "y": 0.07122655240502739
           },
           {
            "mean": 0.170284345864399,
            "x": 0.9108872894796595,
            "y": 0.0005027164650597271
           },
           {
            "mean": 0.6916818537157501,
            "x": 0.5552640329467144,
            "y": 0.6921892990528405
           },
           {
            "mean": 0.11814144241041558,
            "x": 0.9390732439962202,
            "y": 0.043329162386485806
           },
           {
            "mean": 0.6292988328549741,
            "x": 0.608852336075855,
            "y": 0.5646492749442326
           },
           {
            "mean": 0.43629357538956104,
            "x": 0.7508038522879588,
            "y": 0.3797571792706737
           },
           {
            "mean": 0.5043408606885885,
            "x": 0.7040306380488078,
            "y": 0.43017308631674733
           },
           {
            "mean": 0.6107001640253791,
            "x": 0.6239389681488254,
            "y": 0.6985036510456492
           },
           {
            "mean": 0.3239276491593971,
            "x": 0.8222361892063635,
            "y": 0.4026051431290626
           },
           {
            "mean": 0.9615473033667495,
            "x": 0.19609359151499695,
            "y": 1.1182689687352498
           },
           {
            "mean": 0.46221493263903546,
            "x": 0.7333383034868454,
            "y": 0.3179751697607478
           },
           {
            "mean": 0.33980806494243887,
            "x": 0.8125219597386653,
            "y": 0.5008893374420689
           },
           {
            "mean": 0.7245122762699503,
            "x": 0.5248692444124057,
            "y": 0.7283806487108542
           },
           {
            "mean": 0.19073346990191165,
            "x": 0.89959242443347,
            "y": 0.010243127901123694
           },
           {
            "mean": 0.38172948257940376,
            "x": 0.7863017979253235,
            "y": 0.33247049287851016
           },
           {
            "mean": 0.626657836847762,
            "x": 0.6110173182097526,
            "y": 0.6569519556783536
           },
           {
            "mean": 0.0822773545106662,
            "x": 0.9579784159830188,
            "y": -0.002664804455353928
           },
           {
            "mean": 0.9446260421366297,
            "x": 0.23531671819777333,
            "y": 0.7953849685229684
           },
           {
            "mean": 0.9799917654555833,
            "x": 0.14145046675220496,
            "y": 0.9985689363246744
           },
           {
            "mean": 0.9217392208834357,
            "x": 0.27975128081308986,
            "y": 0.9848809391313545
           },
           {
            "mean": 0.7494118251671358,
            "x": 0.5005878292895906,
            "y": 0.9056880160618993
           },
           {
            "mean": 0.6479761051159079,
            "x": 0.5933160160353773,
            "y": 0.5789816528527828
           },
           {
            "mean": 0.9159015871770679,
            "x": 0.2899972634749026,
            "y": 0.8740586369768183
           },
           {
            "mean": 0.9255976166260201,
            "x": 0.2727680028412054,
            "y": 0.6678937248407473
           },
           {
            "mean": 0.8111423924604414,
            "x": 0.43457750464049405,
            "y": 0.8308280101225601
           },
           {
            "mean": 0.9985731425926528,
            "x": 0.037773766126072195,
            "y": 1.0051560646128903
           },
           {
            "mean": 0.7390760649140478,
            "x": 0.510807140793815,
            "y": 0.5362482829836606
           },
           {
            "mean": 0.6362110668654503,
            "x": 0.6031491798341019,
            "y": 0.44406487161093444
           },
           {
            "mean": 0.3647727944685111,
            "x": 0.7970114212051725,
            "y": 0.46540573326766754
           },
           {
            "mean": 0.16925911181147413,
            "x": 0.911449882433766,
            "y": 0.08814660565857096
           },
           {
            "mean": 0.9341984962530367,
            "x": 0.2565180378588673,
            "y": 0.8663756191143767
           },
           {
            "mean": 0.9494123907621596,
            "x": 0.22491689406943283,
            "y": 0.84291363922152
           },
           {
            "mean": 0.4041090224430285,
            "x": 0.7719397499526576,
            "y": 0.46420592652996173
           },
           {
            "mean": 0.12051865085205016,
            "x": 0.9378066693876461,
            "y": 0.018367898056347032
           },
           {
            "mean": 0.9562722765264746,
            "x": 0.20911174876970773,
            "y": 1.01041906839869
           },
           {
            "mean": 0.5819668390723389,
            "x": 0.6465548398455162,
            "y": 0.6620273109323557
           },
           {
            "mean": 0.9301402310909099,
            "x": 0.26430998639682557,
            "y": 0.8251355309464959
           },
           {
            "mean": 0.9218094705369198,
            "x": 0.27962569528403547,
            "y": 1.0929568451613205
           },
           {
            "mean": 0.15996016297298243,
            "x": 0.9165368716134761,
            "y": 0.20627679612441704
           },
           {
            "mean": 0.8273178117071218,
            "x": 0.41555046419523844,
            "y": 0.8271256195904062
           },
           {
            "mean": 0.7017036552553375,
            "x": 0.5461651258956969,
            "y": 0.8745843227470189
           },
           {
            "mean": 0.04121018636954077,
            "x": 0.9791781317158075,
            "y": 0.06577899918090799
           },
           {
            "mean": 0.9009366182655811,
            "x": 0.31474335852312896,
            "y": 0.9003689934388756
           },
           {
            "mean": 0.31904233964643525,
            "x": 0.8252015877066432,
            "y": 0.3319140500814952
           },
           {
            "mean": 0.8565797507559885,
            "x": 0.3787086601122446,
            "y": 0.8710550326887475
           },
           {
            "mean": 0.48609680950848,
            "x": 0.716870414016034,
            "y": 0.4748235589057481
           },
           {
            "mean": 0.9958599192200365,
            "x": 0.06434345949638998,
            "y": 0.8888032134496819
           },
           {
            "mean": 0.9927416002179713,
            "x": 0.08519624276943616,
            "y": 0.9312663395520331
           },
           {
            "mean": 0.831489382540793,
            "x": 0.4105004475749169,
            "y": 0.607912426182659
           },
           {
            "mean": 0.9127000753074191,
            "x": 0.2954656066153569,
            "y": 1.1583204172712669
           },
           {
            "mean": 0.9668370719556063,
            "x": 0.18210691377428168,
            "y": 0.9257453546134518
           }
          ]
         },
         "encoding": {
          "opacity": {
           "value": 0.5
          },
          "x": {
           "field": "x",
           "type": "quantitative"
          },
          "y": {
           "field": "mean",
           "type": "quantitative"
          }
         },
         "height": 300,
         "mark": {
          "color": "black",
          "type": "line"
         },
         "width": 800
        },
        {
         "data": {
          "values": [
           {
            "pred": 0.9211013305583347,
            "x": 0.22830671033681338,
            "y": 0.9478760460151824
           },
           {
            "pred": 1.0181721111189195,
            "x": 0.12900875081801688,
            "y": 0.9833567422123748
           },
           {
            "pred": 0.519184930032304,
            "x": 0.6394446268024744,
            "y": 0.5911105692534442
           },
           {
            "pred": 0.5758897916109971,
            "x": 0.5814387364918906,
            "y": 0.6619289957067138
           },
           {
            "pred": 1.0617142699824402,
            "x": 0.0844675665067155,
            "y": 0.9928652302084336
           },
           {
            "pred": 0.21763266280067706,
            "x": 0.9479156687725012,
            "y": 0.10145588489558177
           },
           {
            "pred": 0.3713849830868894,
            "x": 0.7906356758896523,
            "y": 0.37489522801051267
           },
           {
            "pred": 0.6404538521035743,
            "x": 0.5153933268625767,
            "y": 0.7343697186255251
           },
           {
            "pred": 1.1175968745126779,
            "x": 0.027302798999925604,
            "y": 0.9992545571667697
           },
           {
            "pred": 1.0457807991439516,
            "x": 0.10076661276118226,
            "y": 0.989846089752638
           },
           {
            "pred": 0.5355454859617412,
            "x": 0.622708696474065,
            "y": 0.6122338793355708
           },
           {
            "pred": 0.19261461004690827,
            "x": 0.9735077323701804,
            "y": 0.05228269501546923
           },
           {
            "pred": 0.2778996263701796,
            "x": 0.8862659480812143,
            "y": 0.21453266927170633
           },
           {
            "pred": 0.5248686848891642,
            "x": 0.6336304646371768,
            "y": 0.5985124342836755
           },
           {
            "pred": 0.9574225881593472,
            "x": 0.19115210267723948,
            "y": 0.9634608736420701
           },
           {
            "pred": 0.18505538710913527,
            "x": 0.9812403931042729,
            "y": 0.03716729094057192
           },
           {
            "pred": 0.7833883096439045,
            "x": 0.36917940031624064,
            "y": 0.8637065703821409
           },
           {
            "pred": 0.6549305639912775,
            "x": 0.500584463240704,
            "y": 0.7494151951620163
           },
           {
            "pred": 0.6254126114931134,
            "x": 0.5307796716784386,
            "y": 0.7182729401329289
           },
           {
            "pred": 0.24216769994175558,
            "x": 0.9228177030328889,
            "y": 0.1484074869691029
           },
           {
            "pred": 0.5583676674313113,
            "x": 0.5993628859365511,
            "y": 0.6407641309618088
           },
           {
            "pred": 1.019512756673469,
            "x": 0.1276373456718346,
            "y": 0.9837087079898486
           },
           {
            "pred": 0.606549238750874,
            "x": 0.5500758431126201,
            "y": 0.69741656682394
           },
           {
            "pred": 0.5912706346988273,
            "x": 0.5657049974050075,
            "y": 0.6799778559110006
           },
           {
            "pred": 1.123665700800275,
            "x": 0.02109473037667675,
            "y": 0.9995550123503353
           },
           {
            "pred": 0.7231131161662696,
            "x": 0.43083753974156713,
            "y": 0.8143790143494336
           },
           {
            "pred": 0.972991408794806,
            "x": 0.1752260731111095,
            "y": 0.9692958233020601
           },
           {
            "pred": 0.7770352630201869,
            "x": 0.3756782103888474,
            "y": 0.8588658822390329
           },
           {
            "pred": 0.3454147930948106,
            "x": 0.8172017224346206,
            "y": 0.33218134484988926
           },
           {
            "pred": 0.24393919112082185,
            "x": 0.9210055669980185,
            "y": 0.15174874555865847
           },
           {
            "pred": 0.8575882824510275,
            "x": 0.29327699329377954,
            "y": 0.9139886052045604
           },
           {
            "pred": 0.5941450639344648,
            "x": 0.5627646176508565,
            "y": 0.6832959851202853
           },
           {
            "pred": 1.1213981853607327,
            "x": 0.02341427138606833,
            "y": 0.9994517718954595
           },
           {
            "pred": 1.0737743060013651,
            "x": 0.0721308266403351,
            "y": 0.994797143848182
           },
           {
            "pred": 0.524326381521813,
            "x": 0.6341852105401885,
            "y": 0.5978091187320969
           },
           {
            "pred": 0.8849031331233232,
            "x": 0.2653354343544574,
            "y": 0.9295971072759315
           },
           {
            "pred": 0.3494522414813179,
            "x": 0.8130716393743282,
            "y": 0.3389145092451423
           },
           {
            "pred": 0.8683207372863656,
            "x": 0.2822982944554451,
            "y": 0.9203076729475468
           },
           {
            "pred": 0.5898380364115346,
            "x": 0.567170465035089,
            "y": 0.6783176635918808
           },
           {
            "pred": 0.743150191620991,
            "x": 0.4103407363174286,
            "y": 0.8316204801184706
           },
           {
            "pred": 0.46860340485296237,
            "x": 0.6911866877053685,
            "y": 0.5222609627388815
           },
           {
            "pred": 1.113682743466837,
            "x": 0.031306735343041514,
            "y": 0.9990198883221607
           },
           {
            "pred": 1.137294958511011,
            "x": 0.007152764806643841,
            "y": 0.9999488379556208
           },
           {
            "pred": 0.6399321475202753,
            "x": 0.5159270013658003,
            "y": 0.7338193292616935
           },
           {
            "pred": 1.090766008358361,
            "x": 0.054749268945459395,
            "y": 0.9970025175499377
           },
           {
            "pred": 0.3997355171795328,
            "x": 0.7616346709486181,
            "y": 0.4199126280089902
           },
           {
            "pred": 0.19180299472990103,
            "x": 0.9743379692800682,
            "y": 0.0506655216191928
           },
           {
            "pred": 0.6164694064120197,
            "x": 0.5399280684563597,
            "y": 0.7084776808929847
           },
           {
            "pred": 0.7245547051793179,
            "x": 0.4293628751037253,
            "y": 0.8156475214826628
           },
           {
            "pred": 0.8527069246266398,
            "x": 0.2982703483368071,
            "y": 0.9110347993030398
           },
           {
            "pred": 0.9356312470488856,
            "x": 0.21344342139282757,
            "y": 0.9544419058641238
           },
           {
            "pred": 0.4284245699851311,
            "x": 0.7322873803667225,
            "y": 0.4637551925556431
           },
           {
            "pred": 0.968665632652644,
            "x": 0.1796510992803766,
            "y": 0.9677254825273522
           },
           {
            "pred": 0.5968015307582301,
            "x": 0.5600472012088961,
            "y": 0.6863471324180823
           },
           {
            "pred": 0.9219379116674408,
            "x": 0.22745093482304424,
            "y": 0.9482660722481233
           },
           {
            "pred": 0.9505896018241338,
            "x": 0.19814186413365464,
            "y": 0.9607398016776404
           },
           {
            "pred": 0.237510762145968,
            "x": 0.9275814889843066,
            "y": 0.1395925812936567
           },
           {
            "pred": 1.0749015280890677,
            "x": 0.07097774172037263,
            "y": 0.9949621601802761
           },
           {
            "pred": 0.23857241772993265,
            "x": 0.9264954749171421,
            "y": 0.1416061349580593
           },
           {
            "pred": 1.066525099880724,
            "x": 0.0795463575730605,
            "y": 0.9936723769968588
           },
           {
            "pred": 0.5152380811549695,
            "x": 0.6434820316506178,
            "y": 0.5859308749427934
           },
           {
            "pred": 0.8639330675156147,
            "x": 0.2867866343324068,
            "y": 0.9177534263682904
           },
           {
            "pred": 1.0487380236129524,
            "x": 0.09774153813094821,
            "y": 0.9904465917237963
           },
           {
            "pred": 0.7659742854136767,
            "x": 0.3869929695807143,
            "y": 0.8502364414951004
           },
           {
            "pred": 0.2059626266348218,
            "x": 0.9598534606815375,
            "y": 0.07868133401767607
           },
           {
            "pred": 0.25415391640640916,
            "x": 0.9105564764267232,
            "y": 0.17088690323735023
           },
           {
            "pred": 0.665853835857912,
            "x": 0.4894105692907227,
            "y": 0.7604772946665307
           },
           {
            "pred": 0.6771597809714881,
            "x": 0.47784522209019276,
            "y": 0.7716639437255743
           },
           {
            "pred": 0.24673734160607086,
            "x": 0.9181432161236651,
            "y": 0.15701303468609273
           },
           {
            "pred": 0.5901367863407578,
            "x": 0.5668648606275946,
            "y": 0.6786642297856578
           },
           {
            "pred": 0.2046094134409382,
            "x": 0.9612377218172836,
            "y": 0.07602204215551844
           },
           {
            "pred": 0.7610323954436136,
            "x": 0.3920482456108416,
            "y": 0.8462981731134612
           },
           {
            "pred": 0.38414481185048377,
            "x": 0.7775830873278103,
            "y": 0.3953645423017509
           },
           {
            "pred": 0.36562515535902973,
            "x": 0.7965276563316895,
            "y": 0.36554369269874587
           },
           {
            "pred": 1.0786378251372697,
            "x": 0.06715571957426447,
            "y": 0.9954901093284627
           },
           {
            "pred": 0.5971262203386251,
            "x": 0.5597150619943554,
            "y": 0.6867190493766548
           },
           {
            "pred": 0.8339856118890927,
            "x": 0.31742120036061905,
            "y": 0.8992437815616238
           },
           {
            "pred": 0.2795705209850857,
            "x": 0.8845567166845679,
            "y": 0.21755941496821707
           },
           {
            "pred": 0.7655392981867607,
            "x": 0.38743793709617114,
            "y": 0.8498918448986633
           },
           {
            "pred": 0.6849613399173302,
            "x": 0.4698646652231936,
            "y": 0.7792271963746962
           },
           {
            "pred": 1.0395362386615017,
            "x": 0.10715444760105963,
            "y": 0.9885179243593117
           },
           {
            "pred": 1.1022228215623624,
            "x": 0.0430295921572903,
            "y": 0.9981484541987773
           },
           {
            "pred": 0.6875578756358312,
            "x": 0.4672085549377314,
            "y": 0.7817161661929968
           },
           {
            "pred": 0.22537912724487053,
            "x": 0.9399914704880006,
            "y": 0.11641603540980638
           },
           {
            "pred": 0.9623211983806086,
            "x": 0.18614109940066048,
            "y": 0.9653514911139134
           },
           {
            "pred": 0.7931585983018745,
            "x": 0.3591849434668847,
            "y": 0.8709861763866908
           },
           {
            "pred": 0.6352260749649081,
            "x": 0.5207410494181255,
            "y": 0.7288287594509094
           },
           {
            "pred": 0.9128984194319205,
            "x": 0.2366978279549372,
            "y": 0.943974138241415
           },
           {
            "pred": 0.7638120487436164,
            "x": 0.38920481631866954,
            "y": 0.8485196109543507
           },
           {
            "pred": 1.0730574096585983,
            "x": 0.07286417135655288,
            "y": 0.9946908125325229
           },
           {
            "pred": 0.5923545660794166,
            "x": 0.564596196448331,
            "y": 0.6812311349560776
           },
           {
            "pred": 0.8652827726221266,
            "x": 0.28540596177311806,
            "y": 0.9185434369843615
           },
           {
            "pred": 0.5769010325470935,
            "x": 0.5804042937795074,
            "y": 0.6631308557623112
           },
           {
            "pred": 0.638876790478808,
            "x": 0.5170065723775539,
            "y": 0.7327042041184131
           },
           {
            "pred": 0.8781511842037084,
            "x": 0.272242299083689,
            "y": 0.9258841305896273
           },
           {
            "pred": 0.47836388841809163,
            "x": 0.6812022609155872,
            "y": 0.5359634797234922
           },
           {
            "pred": 0.48117081677777795,
            "x": 0.6783309307684238,
            "y": 0.5398671483628439
           },
           {
            "pred": 0.40439724834974045,
            "x": 0.7568659816442411,
            "y": 0.42715388582969926
           },
           {
            "pred": 0.35524081350754255,
            "x": 0.8071502551286031,
            "y": 0.34850846564583104
           },
           {
            "pred": 1.0426055247466488,
            "x": 0.10401474022800172,
            "y": 0.9891809338153014
           }
          ]
         },
         "encoding": {
          "opacity": {
           "value": 0.95
          },
          "x": {
           "field": "x",
           "type": "quantitative"
          },
          "y": {
           "field": "pred",
           "type": "quantitative"
          }
         },
         "height": 300,
         "mark": {
          "color": "orange",
          "size": 75,
          "type": "circle"
         },
         "width": 800
        },
        {
         "data": {
          "values": [
           {
            "pred": 0.9211013305583347,
            "x": 0.22830671033681338,
            "y": 0.9478760460151824
           },
           {
            "pred": 1.0181721111189195,
            "x": 0.12900875081801688,
            "y": 0.9833567422123748
           },
           {
            "pred": 0.519184930032304,
            "x": 0.6394446268024744,
            "y": 0.5911105692534442
           },
           {
            "pred": 0.5758897916109971,
            "x": 0.5814387364918906,
            "y": 0.6619289957067138
           },
           {
            "pred": 1.0617142699824402,
            "x": 0.0844675665067155,
            "y": 0.9928652302084336
           },
           {
            "pred": 0.21763266280067706,
            "x": 0.9479156687725012,
            "y": 0.10145588489558177
           },
           {
            "pred": 0.3713849830868894,
            "x": 0.7906356758896523,
            "y": 0.37489522801051267
           },
           {
            "pred": 0.6404538521035743,
            "x": 0.5153933268625767,
            "y": 0.7343697186255251
           },
           {
            "pred": 1.1175968745126779,
            "x": 0.027302798999925604,
            "y": 0.9992545571667697
           },
           {
            "pred": 1.0457807991439516,
            "x": 0.10076661276118226,
            "y": 0.989846089752638
           },
           {
            "pred": 0.5355454859617412,
            "x": 0.622708696474065,
            "y": 0.6122338793355708
           },
           {
            "pred": 0.19261461004690827,
            "x": 0.9735077323701804,
            "y": 0.05228269501546923
           },
           {
            "pred": 0.2778996263701796,
            "x": 0.8862659480812143,
            "y": 0.21453266927170633
           },
           {
            "pred": 0.5248686848891642,
            "x": 0.6336304646371768,
            "y": 0.5985124342836755
           },
           {
            "pred": 0.9574225881593472,
            "x": 0.19115210267723948,
            "y": 0.9634608736420701
           },
           {
            "pred": 0.18505538710913527,
            "x": 0.9812403931042729,
            "y": 0.03716729094057192
           },
           {
            "pred": 0.7833883096439045,
            "x": 0.36917940031624064,
            "y": 0.8637065703821409
           },
           {
            "pred": 0.6549305639912775,
            "x": 0.500584463240704,
            "y": 0.7494151951620163
           },
           {
            "pred": 0.6254126114931134,
            "x": 0.5307796716784386,
            "y": 0.7182729401329289
           },
           {
            "pred": 0.24216769994175558,
            "x": 0.9228177030328889,
            "y": 0.1484074869691029
           },
           {
            "pred": 0.5583676674313113,
            "x": 0.5993628859365511,
            "y": 0.6407641309618088
           },
           {
            "pred": 1.019512756673469,
            "x": 0.1276373456718346,
            "y": 0.9837087079898486
           },
           {
            "pred": 0.606549238750874,
            "x": 0.5500758431126201,
            "y": 0.69741656682394
           },
           {
            "pred": 0.5912706346988273,
            "x": 0.5657049974050075,
            "y": 0.6799778559110006
           },
           {
            "pred": 1.123665700800275,
            "x": 0.02109473037667675,
            "y": 0.9995550123503353
           },
           {
            "pred": 0.7231131161662696,
            "x": 0.43083753974156713,
            "y": 0.8143790143494336
           },
           {
            "pred": 0.972991408794806,
            "x": 0.1752260731111095,
            "y": 0.9692958233020601
           },
           {
            "pred": 0.7770352630201869,
            "x": 0.3756782103888474,
            "y": 0.8588658822390329
           },
           {
            "pred": 0.3454147930948106,
            "x": 0.8172017224346206,
            "y": 0.33218134484988926
           },
           {
            "pred": 0.24393919112082185,
            "x": 0.9210055669980185,
            "y": 0.15174874555865847
           },
           {
            "pred": 0.8575882824510275,
            "x": 0.29327699329377954,
            "y": 0.9139886052045604
           },
           {
            "pred": 0.5941450639344648,
            "x": 0.5627646176508565,
            "y": 0.6832959851202853
           },
           {
            "pred": 1.1213981853607327,
            "x": 0.02341427138606833,
            "y": 0.9994517718954595
           },
           {
            "pred": 1.0737743060013651,
            "x": 0.0721308266403351,
            "y": 0.994797143848182
           },
           {
            "pred": 0.524326381521813,
            "x": 0.6341852105401885,
            "y": 0.5978091187320969
           },
           {
            "pred": 0.8849031331233232,
            "x": 0.2653354343544574,
            "y": 0.9295971072759315
           },
           {
            "pred": 0.3494522414813179,
            "x": 0.8130716393743282,
            "y": 0.3389145092451423
           },
           {
            "pred": 0.8683207372863656,
            "x": 0.2822982944554451,
            "y": 0.9203076729475468
           },
           {
            "pred": 0.5898380364115346,
            "x": 0.567170465035089,
            "y": 0.6783176635918808
           },
           {
            "pred": 0.743150191620991,
            "x": 0.4103407363174286,
            "y": 0.8316204801184706
           },
           {
            "pred": 0.46860340485296237,
            "x": 0.6911866877053685,
            "y": 0.5222609627388815
           },
           {
            "pred": 1.113682743466837,
            "x": 0.031306735343041514,
            "y": 0.9990198883221607
           },
           {
            "pred": 1.137294958511011,
            "x": 0.007152764806643841,
            "y": 0.9999488379556208
           },
           {
            "pred": 0.6399321475202753,
            "x": 0.5159270013658003,
            "y": 0.7338193292616935
           },
           {
            "pred": 1.090766008358361,
            "x": 0.054749268945459395,
            "y": 0.9970025175499377
           },
           {
            "pred": 0.3997355171795328,
            "x": 0.7616346709486181,
            "y": 0.4199126280089902
           },
           {
            "pred": 0.19180299472990103,
            "x": 0.9743379692800682,
            "y": 0.0506655216191928
           },
           {
            "pred": 0.6164694064120197,
            "x": 0.5399280684563597,
            "y": 0.7084776808929847
           },
           {
            "pred": 0.7245547051793179,
            "x": 0.4293628751037253,
            "y": 0.8156475214826628
           },
           {
            "pred": 0.8527069246266398,
            "x": 0.2982703483368071,
            "y": 0.9110347993030398
           },
           {
            "pred": 0.9356312470488856,
            "x": 0.21344342139282757,
            "y": 0.9544419058641238
           },
           {
            "pred": 0.4284245699851311,
            "x": 0.7322873803667225,
            "y": 0.4637551925556431
           },
           {
            "pred": 0.968665632652644,
            "x": 0.1796510992803766,
            "y": 0.9677254825273522
           },
           {
            "pred": 0.5968015307582301,
            "x": 0.5600472012088961,
            "y": 0.6863471324180823
           },
           {
            "pred": 0.9219379116674408,
            "x": 0.22745093482304424,
            "y": 0.9482660722481233
           },
           {
            "pred": 0.9505896018241338,
            "x": 0.19814186413365464,
            "y": 0.9607398016776404
           },
           {
            "pred": 0.237510762145968,
            "x": 0.9275814889843066,
            "y": 0.1395925812936567
           },
           {
            "pred": 1.0749015280890677,
            "x": 0.07097774172037263,
            "y": 0.9949621601802761
           },
           {
            "pred": 0.23857241772993265,
            "x": 0.9264954749171421,
            "y": 0.1416061349580593
           },
           {
            "pred": 1.066525099880724,
            "x": 0.0795463575730605,
            "y": 0.9936723769968588
           },
           {
            "pred": 0.5152380811549695,
            "x": 0.6434820316506178,
            "y": 0.5859308749427934
           },
           {
            "pred": 0.8639330675156147,
            "x": 0.2867866343324068,
            "y": 0.9177534263682904
           },
           {
            "pred": 1.0487380236129524,
            "x": 0.09774153813094821,
            "y": 0.9904465917237963
           },
           {
            "pred": 0.7659742854136767,
            "x": 0.3869929695807143,
            "y": 0.8502364414951004
           },
           {
            "pred": 0.2059626266348218,
            "x": 0.9598534606815375,
            "y": 0.07868133401767607
           },
           {
            "pred": 0.25415391640640916,
            "x": 0.9105564764267232,
            "y": 0.17088690323735023
           },
           {
            "pred": 0.665853835857912,
            "x": 0.4894105692907227,
            "y": 0.7604772946665307
           },
           {
            "pred": 0.6771597809714881,
            "x": 0.47784522209019276,
            "y": 0.7716639437255743
           },
           {
            "pred": 0.24673734160607086,
            "x": 0.9181432161236651,
            "y": 0.15701303468609273
           },
           {
            "pred": 0.5901367863407578,
            "x": 0.5668648606275946,
            "y": 0.6786642297856578
           },
           {
            "pred": 0.2046094134409382,
            "x": 0.9612377218172836,
            "y": 0.07602204215551844
           },
           {
            "pred": 0.7610323954436136,
            "x": 0.3920482456108416,
            "y": 0.8462981731134612
           },
           {
            "pred": 0.38414481185048377,
            "x": 0.7775830873278103,
            "y": 0.3953645423017509
           },
           {
            "pred": 0.36562515535902973,
            "x": 0.7965276563316895,
            "y": 0.36554369269874587
           },
           {
            "pred": 1.0786378251372697,
            "x": 0.06715571957426447,
            "y": 0.9954901093284627
           },
           {
            "pred": 0.5971262203386251,
            "x": 0.5597150619943554,
            "y": 0.6867190493766548
           },
           {
            "pred": 0.8339856118890927,
            "x": 0.31742120036061905,
            "y": 0.8992437815616238
           },
           {
            "pred": 0.2795705209850857,
            "x": 0.8845567166845679,
            "y": 0.21755941496821707
           },
           {
            "pred": 0.7655392981867607,
            "x": 0.38743793709617114,
            "y": 0.8498918448986633
           },
           {
            "pred": 0.6849613399173302,
            "x": 0.4698646652231936,
            "y": 0.7792271963746962
           },
           {
            "pred": 1.0395362386615017,
            "x": 0.10715444760105963,
            "y": 0.9885179243593117
           },
           {
            "pred": 1.1022228215623624,
            "x": 0.0430295921572903,
            "y": 0.9981484541987773
           },
           {
            "pred": 0.6875578756358312,
            "x": 0.4672085549377314,
            "y": 0.7817161661929968
           },
           {
            "pred": 0.22537912724487053,
            "x": 0.9399914704880006,
            "y": 0.11641603540980638
           },
           {
            "pred": 0.9623211983806086,
            "x": 0.18614109940066048,
            "y": 0.9653514911139134
           },
           {
            "pred": 0.7931585983018745,
            "x": 0.3591849434668847,
            "y": 0.8709861763866908
           },
           {
            "pred": 0.6352260749649081,
            "x": 0.5207410494181255,
            "y": 0.7288287594509094
           },
           {
            "pred": 0.9128984194319205,
            "x": 0.2366978279549372,
            "y": 0.943974138241415
           },
           {
            "pred": 0.7638120487436164,
            "x": 0.38920481631866954,
            "y": 0.8485196109543507
           },
           {
            "pred": 1.0730574096585983,
            "x": 0.07286417135655288,
            "y": 0.9946908125325229
           },
           {
            "pred": 0.5923545660794166,
            "x": 0.564596196448331,
            "y": 0.6812311349560776
           },
           {
            "pred": 0.8652827726221266,
            "x": 0.28540596177311806,
            "y": 0.9185434369843615
           },
           {
            "pred": 0.5769010325470935,
            "x": 0.5804042937795074,
            "y": 0.6631308557623112
           },
           {
            "pred": 0.638876790478808,
            "x": 0.5170065723775539,
            "y": 0.7327042041184131
           },
           {
            "pred": 0.8781511842037084,
            "x": 0.272242299083689,
            "y": 0.9258841305896273
           },
           {
            "pred": 0.47836388841809163,
            "x": 0.6812022609155872,
            "y": 0.5359634797234922
           },
           {
            "pred": 0.48117081677777795,
            "x": 0.6783309307684238,
            "y": 0.5398671483628439
           },
           {
            "pred": 0.40439724834974045,
            "x": 0.7568659816442411,
            "y": 0.42715388582969926
           },
           {
            "pred": 0.35524081350754255,
            "x": 0.8071502551286031,
            "y": 0.34850846564583104
           },
           {
            "pred": 1.0426055247466488,
            "x": 0.10401474022800172,
            "y": 0.9891809338153014
           }
          ]
         },
         "encoding": {
          "opacity": {
           "value": 0.5
          },
          "x": {
           "field": "x",
           "type": "quantitative"
          },
          "y": {
           "field": "y",
           "type": "quantitative"
          }
         },
         "height": 300,
         "mark": {
          "color": "red",
          "size": 75,
          "type": "circle"
         },
         "width": 800
        }
       ]
      },
      "image/png": "[encoded data removed]",
      "text/plain": [
       "<VegaLite 2 object>\n",
       "\n",
       "If you see this message, it means the renderer has not been properly enabled\n",
       "for the frontend that you are using. For more information, see\n",
       "https://altair-viz.github.io/user_guide/troubleshooting.html\n"
      ]
     },
     "execution_count": 8,
     "metadata": {},
     "output_type": "execute_result"
    }
   ],
   "source": [
    "test_plot = alt.Chart(test_df, width=800, height=300).mark_circle(size=75, color='orange').encode(\n",
    "    x='x',\n",
    "    y='pred',\n",
    "    opacity=alt.value(0.95),\n",
    ")\n",
    "\n",
    "test_plot2 = alt.Chart(test_df, width=800, height=300).mark_circle(size=75, color='red').encode(\n",
    "    x='x',\n",
    "    y='y',\n",
    "    opacity=alt.value(0.5),\n",
    ")\n",
    "\n",
    "sample_plot + mean_plot + test_plot + test_plot2"
   ]
  },
  {
   "cell_type": "code",
   "execution_count": 9,
   "metadata": {},
   "outputs": [
    {
     "data": {
      "text/plain": [
       "0.9277809464230955"
      ]
     },
     "execution_count": 9,
     "metadata": {},
     "output_type": "execute_result"
    }
   ],
   "source": [
    "lr.score(np.array(test_df['x']).reshape(-1,1), test_df['y'])"
   ]
  }
 ],
 "metadata": {
  "kernelspec": {
   "display_name": "Python 3",
   "language": "python",
   "name": "python3"
  },
  "language_info": {
   "codemirror_mode": {
    "name": "ipython",
    "version": 3
   },
   "file_extension": ".py",
   "mimetype": "text/x-python",
   "name": "python",
   "nbconvert_exporter": "python",
   "pygments_lexer": "ipython3",
   "version": "3.6.5"
  }
 },
 "nbformat": 4,
 "nbformat_minor": 2
}
