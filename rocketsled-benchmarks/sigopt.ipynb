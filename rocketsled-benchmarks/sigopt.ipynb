{
 "cells": [
  {
   "cell_type": "markdown",
   "metadata": {},
   "source": [
    "# Benchmarking sigopt for comparison to rocketsled optimizers"
   ]
  },
  {
   "cell_type": "markdown",
   "metadata": {},
   "source": [
    "Julien Brenneck - 08/07/18\n",
    "\n",
    "Ended up not using sigopt optimizers, could only run 10 \"experiments\" per month on academic tier account, statistical comparison would require a few hundred. "
   ]
  },
  {
   "cell_type": "code",
   "execution_count": 1,
   "metadata": {},
   "outputs": [],
   "source": [
    "import numpy as np\n",
    "# np.random.seed(123)\n",
    "from time import time\n",
    "\n",
    "%config InlineBackend.figure_format = 'retina'\n",
    "%matplotlib inline\n",
    "\n",
    "import matplotlib.pyplot as plt\n",
    "plt.style.use('seaborn')\n",
    "\n",
    "import seaborn\n",
    "seaborn.set_color_codes()\n",
    "\n",
    "# plt.rcParams[\"figure.figsize\"] = (10,6)\n",
    "\n",
    "from skopt.benchmarks import branin, hart6\n",
    "from skopt import gp_minimize, forest_minimize, dummy_minimize\n",
    "\n",
    "from sigopt import Connection"
   ]
  },
  {
   "cell_type": "code",
   "execution_count": 2,
   "metadata": {},
   "outputs": [],
   "source": [
    "hartdim = [(0.0, 1.0)] * 6\n",
    "rosedim = [(-5.0, 10.0)] * 2\n",
    "branindim = [(-5.0, 10.0), (0.0, 15.0)]\n",
    "\n",
    "def rose(x):\n",
    "    \"\"\"Rosenbrock function - Extensible to N dimensions, but we using 2\"\"\"\n",
    "    x = np.asarray(x)\n",
    "    r = np.sum(100.0 * (x[1:] - x[:-1]**2.0)**2.0 + (1 - x[:-1])**2.0, axis=0)\n",
    "    return r"
   ]
  },
  {
   "cell_type": "code",
   "execution_count": 21,
   "metadata": {},
   "outputs": [],
   "source": [
    "def eval_rose(assignments):\n",
    "    return -rose([assignments['x'], assignments['y']])\n",
    "\n",
    "def eval_bran(assignments):\n",
    "    return -branin([assignments['x'], assignments['y']])\n",
    "\n",
    "def eval_hart(assignments):\n",
    "    return -hart6([assignments['x1'], assignments['x2'],assignments['x3'],assignments['x4'],assignments['x5'],assignments['x6']])"
   ]
  },
  {
   "cell_type": "code",
   "execution_count": 4,
   "metadata": {},
   "outputs": [],
   "source": [
    "def plot_err(data, log=True):\n",
    "    plt.figure(figsize=(12,6))\n",
    "    y = np.minimum.accumulate(data, axis=1)\n",
    "    mean, std = np.mean(y, axis=0), np.std(y, axis=0)\n",
    "    p25, p75 = np.percentile(y, [12.5, 87.5], axis=0)\n",
    "    plt.plot(mean, 'o-')\n",
    "    if log:\n",
    "        plt.yscale('log')\n",
    "    plt.plot(p25, '--b', alpha=0.5)\n",
    "    plt.plot(p75, '--b', alpha=0.5)\n",
    "    plt.fill_between(np.arange(50), mean-std, mean+std, alpha=0.3)\n",
    "    plt.tight_layout()\n",
    "    plt.show()\n",
    "    \n",
    "def plot_comp(gp_data, rf_data, rd_data, log=True, std=False, quant=False):\n",
    "    y1 = np.mean(np.minimum.accumulate(gp_data, axis=1), axis=0)\n",
    "    y2 = np.mean(np.minimum.accumulate(rf_data, axis=1), axis=0)\n",
    "    y3 = np.mean(np.minimum.accumulate(rd_data, axis=1), axis=0)\n",
    "\n",
    "    plt.figure(figsize=(12,6))\n",
    "    plt.plot(y1, 'o-', label=\"GP\")\n",
    "    plt.plot(y2, 'v-', label=\"RF\")\n",
    "    plt.plot(y3, '^-', label=\"RAND\")\n",
    "    if log:\n",
    "        plt.yscale('log')\n",
    "    plt.legend()\n",
    "    plt.tight_layout()"
   ]
  },
  {
   "cell_type": "code",
   "execution_count": null,
   "metadata": {},
   "outputs": [],
   "source": [
    "conn = Connection(client_token=None)"
   ]
  },
  {
   "cell_type": "code",
   "execution_count": 6,
   "metadata": {},
   "outputs": [
    {
     "name": "stdout",
     "output_type": "stream",
     "text": [
      "Created experiment: https://sigopt.com/experiment/47452\n"
     ]
    }
   ],
   "source": [
    "experiment = conn.experiments().create(\n",
    "  name=\"Rosenbrock\",\n",
    "  parameters=[\n",
    "    dict(\n",
    "      name=\"x\",\n",
    "      bounds=dict(\n",
    "        min=-5.0,\n",
    "        max=10.0\n",
    "        ),\n",
    "      type=\"double\"\n",
    "      ),\n",
    "    dict(\n",
    "      name=\"y\",\n",
    "      bounds=dict(\n",
    "        min=-5.0,\n",
    "        max=10.0\n",
    "        ),\n",
    "      type=\"double\"\n",
    "      )\n",
    "    ],\n",
    "  observation_budget=50\n",
    "  )\n",
    "\n",
    "print(\"Created experiment: https://sigopt.com/experiment/\" + experiment.id)"
   ]
  },
  {
   "cell_type": "code",
   "execution_count": 7,
   "metadata": {},
   "outputs": [],
   "source": [
    "for _ in range(experiment.observation_budget):\n",
    "    suggestion = conn.experiments(experiment.id).suggestions().create()\n",
    "    assignments = suggestion.assignments\n",
    "    value = eval_rose(assignments)\n",
    "\n",
    "    conn.experiments(experiment.id).observations().create(\n",
    "        suggestion=suggestion.id,\n",
    "        value=value\n",
    "    )"
   ]
  },
  {
   "cell_type": "code",
   "execution_count": 8,
   "metadata": {},
   "outputs": [
    {
     "name": "stdout",
     "output_type": "stream",
     "text": [
      "Assignments({\n",
      "  \"x\": 0.5681412021059522,\n",
      "  \"y\": 0.24070836539448592\n",
      "})\n"
     ]
    }
   ],
   "source": [
    "assignments = conn.experiments(experiment.id).best_assignments().fetch().data[0].assignments\n",
    "\n",
    "print(assignments)"
   ]
  },
  {
   "cell_type": "code",
   "execution_count": 17,
   "metadata": {},
   "outputs": [
    {
     "name": "stdout",
     "output_type": "stream",
     "text": [
      "Created experiment: https://sigopt.com/experiment/47452\n"
     ]
    }
   ],
   "source": [
    "experiment_bran = conn.experiments().create(\n",
    "  name=\"Branin\",\n",
    "  parameters=[\n",
    "    dict(\n",
    "      name=\"x\",\n",
    "      bounds=dict(\n",
    "        min=-5.0,\n",
    "        max=10.0\n",
    "        ),\n",
    "      type=\"double\"\n",
    "      ),\n",
    "    dict(\n",
    "      name=\"y\",\n",
    "      bounds=dict(\n",
    "        min=0.0,\n",
    "        max=15.0\n",
    "        ),\n",
    "      type=\"double\"\n",
    "      )\n",
    "    ],\n",
    "  observation_budget=50\n",
    "  )\n",
    "\n",
    "print(\"Created experiment: https://sigopt.com/experiment/\" + experiment.id)"
   ]
  },
  {
   "cell_type": "code",
   "execution_count": 18,
   "metadata": {},
   "outputs": [],
   "source": [
    "for _ in range(experiment_bran.observation_budget):\n",
    "    suggestion = conn.experiments(experiment_bran.id).suggestions().create()\n",
    "    assignments = suggestion.assignments\n",
    "    value = eval_bran(assignments)\n",
    "\n",
    "    conn.experiments(experiment_bran.id).observations().create(\n",
    "        suggestion=suggestion.id,\n",
    "        value=value\n",
    "    )"
   ]
  }
 ],
 "metadata": {
  "kernelspec": {
   "display_name": "Python 3",
   "language": "python",
   "name": "python3"
  },
  "language_info": {
   "codemirror_mode": {
    "name": "ipython",
    "version": 3
   },
   "file_extension": ".py",
   "mimetype": "text/x-python",
   "name": "python",
   "nbconvert_exporter": "python",
   "pygments_lexer": "ipython3",
   "version": "3.6.5"
  }
 },
 "nbformat": 4,
 "nbformat_minor": 2
}
